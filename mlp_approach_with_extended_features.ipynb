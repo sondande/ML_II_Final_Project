{
 "cells": [
  {
   "cell_type": "markdown",
   "metadata": {},
   "source": [
    "Test Full Pipeline For BMI detection using extra features extracted as well"
   ]
  },
  {
   "cell_type": "code",
   "execution_count": 30,
   "metadata": {
    "vscode": {
     "languageId": "shellscript"
    }
   },
   "outputs": [],
   "source": [
    "# conda create -n bmi-predictor python=3.10 -y\n",
    "# conda activate bmi-predictor\n",
    "\n",
    "# # For MPS on macOS with ARM (M1/M2/M3)\n",
    "# pip install torch torchvision torchaudio --index-url https://download.pytorch.org/whl/nightly/cpu\n",
    "\n",
    "# pip install facenet-pytorch\n",
    "# pip install pandas scikit-learn matplotlib tqdm jupyter notebook\n",
    "# pip install opencv-python pillow"
   ]
  },
  {
   "cell_type": "markdown",
   "metadata": {},
   "source": [
    "### Data Preprocessing"
   ]
  },
  {
   "cell_type": "code",
   "execution_count": 31,
   "metadata": {},
   "outputs": [
    {
     "name": "stdout",
     "output_type": "stream",
     "text": [
      "Core count: 10\n",
      "Using device: cpu\n"
     ]
    }
   ],
   "source": [
    "# ===============================================\n",
    "# STEP 0: Imports and Setup\n",
    "# ===============================================\n",
    "import os\n",
    "import torch\n",
    "import torch.nn as nn\n",
    "import torch.nn.functional as F\n",
    "from torch import optim\n",
    "from torch.utils.data import Dataset, DataLoader\n",
    "from torchvision import transforms\n",
    "from facenet_pytorch import InceptionResnetV1, MTCNN\n",
    "import pandas as pd\n",
    "import numpy as np\n",
    "from PIL import Image\n",
    "from pathlib import Path\n",
    "from sklearn.preprocessing import StandardScaler\n",
    "from sklearn.model_selection import train_test_split\n",
    "from sklearn.metrics import mean_absolute_error, mean_squared_error, r2_score\n",
    "from scipy.stats import pearsonr\n",
    "from tqdm import tqdm \n",
    "\n",
    "# DEVICE = torch.device(\"cuda\" if torch.cuda.is_available() else \"cpu\")\n",
    "print(f'Core count: {os.cpu_count()}')\n",
    "torch.set_num_threads(os.cpu_count())  # Use all available CPU cores\n",
    "DEVICE = torch.device(\"cpu\")  # Force CPU usage for portability\n",
    "print(\"Using device:\", DEVICE)"
   ]
  },
  {
   "cell_type": "code",
   "execution_count": 32,
   "metadata": {},
   "outputs": [
    {
     "name": "stdout",
     "output_type": "stream",
     "text": [
      "Loaded 4206 rows from CSV\n",
      "Filtered to 3962 rows with existing images\n"
     ]
    },
    {
     "data": {
      "text/html": [
       "<div>\n",
       "<style scoped>\n",
       "    .dataframe tbody tr th:only-of-type {\n",
       "        vertical-align: middle;\n",
       "    }\n",
       "\n",
       "    .dataframe tbody tr th {\n",
       "        vertical-align: top;\n",
       "    }\n",
       "\n",
       "    .dataframe thead th {\n",
       "        text-align: right;\n",
       "    }\n",
       "</style>\n",
       "<table border=\"1\" class=\"dataframe\">\n",
       "  <thead>\n",
       "    <tr style=\"text-align: right;\">\n",
       "      <th></th>\n",
       "      <th>bmi</th>\n",
       "      <th>gender</th>\n",
       "      <th>is_training</th>\n",
       "      <th>name</th>\n",
       "    </tr>\n",
       "  </thead>\n",
       "  <tbody>\n",
       "    <tr>\n",
       "      <th>0</th>\n",
       "      <td>34.207396</td>\n",
       "      <td>Male</td>\n",
       "      <td>1</td>\n",
       "      <td>img_0.bmp</td>\n",
       "    </tr>\n",
       "    <tr>\n",
       "      <th>1</th>\n",
       "      <td>26.453720</td>\n",
       "      <td>Male</td>\n",
       "      <td>1</td>\n",
       "      <td>img_1.bmp</td>\n",
       "    </tr>\n",
       "    <tr>\n",
       "      <th>2</th>\n",
       "      <td>34.967561</td>\n",
       "      <td>Female</td>\n",
       "      <td>1</td>\n",
       "      <td>img_2.bmp</td>\n",
       "    </tr>\n",
       "    <tr>\n",
       "      <th>3</th>\n",
       "      <td>22.044766</td>\n",
       "      <td>Female</td>\n",
       "      <td>1</td>\n",
       "      <td>img_3.bmp</td>\n",
       "    </tr>\n",
       "    <tr>\n",
       "      <th>6</th>\n",
       "      <td>25.845588</td>\n",
       "      <td>Female</td>\n",
       "      <td>1</td>\n",
       "      <td>img_6.bmp</td>\n",
       "    </tr>\n",
       "  </tbody>\n",
       "</table>\n",
       "</div>"
      ],
      "text/plain": [
       "         bmi  gender  is_training       name\n",
       "0  34.207396    Male            1  img_0.bmp\n",
       "1  26.453720    Male            1  img_1.bmp\n",
       "2  34.967561  Female            1  img_2.bmp\n",
       "3  22.044766  Female            1  img_3.bmp\n",
       "6  25.845588  Female            1  img_6.bmp"
      ]
     },
     "execution_count": 32,
     "metadata": {},
     "output_type": "execute_result"
    }
   ],
   "source": [
    "# Paths\n",
    "IMAGE_DIR = \"data/Images\"\n",
    "existing_image_files = os.listdir(IMAGE_DIR)\n",
    "\n",
    "# Load CSV\n",
    "data_df = pd.read_csv(\"data/data.csv\").drop(columns=[\"Unnamed: 0\"])\n",
    "print(f\"Loaded {data_df.shape[0]} rows from CSV\")\n",
    "\n",
    "# Filter out rows with missing image files\n",
    "data_df = data_df[data_df[\"name\"].isin(existing_image_files)]\n",
    "print(f\"Filtered to {data_df.shape[0]} rows with existing images\")\n",
    "\n",
    "del existing_image_files\n",
    "data_df.head(5)"
   ]
  },
  {
   "cell_type": "code",
   "execution_count": 33,
   "metadata": {},
   "outputs": [
    {
     "data": {
      "text/html": [
       "<div>\n",
       "<style scoped>\n",
       "    .dataframe tbody tr th:only-of-type {\n",
       "        vertical-align: middle;\n",
       "    }\n",
       "\n",
       "    .dataframe tbody tr th {\n",
       "        vertical-align: top;\n",
       "    }\n",
       "\n",
       "    .dataframe thead th {\n",
       "        text-align: right;\n",
       "    }\n",
       "</style>\n",
       "<table border=\"1\" class=\"dataframe\">\n",
       "  <thead>\n",
       "    <tr style=\"text-align: right;\">\n",
       "      <th></th>\n",
       "      <th>jaw_width</th>\n",
       "      <th>face_height</th>\n",
       "      <th>cheekbone_width</th>\n",
       "      <th>nose_width</th>\n",
       "      <th>mouth_width</th>\n",
       "      <th>mouth_height</th>\n",
       "      <th>eye_distance</th>\n",
       "      <th>left_eye_width</th>\n",
       "      <th>right_eye_width</th>\n",
       "      <th>face_width_to_height</th>\n",
       "      <th>mouth_to_nose_ratio</th>\n",
       "      <th>image</th>\n",
       "      <th>race</th>\n",
       "      <th>pred_gender</th>\n",
       "      <th>age</th>\n",
       "      <th>key</th>\n",
       "      <th>bmi</th>\n",
       "      <th>gender</th>\n",
       "      <th>is_training</th>\n",
       "      <th>name</th>\n",
       "    </tr>\n",
       "  </thead>\n",
       "  <tbody>\n",
       "    <tr>\n",
       "      <th>0</th>\n",
       "      <td>237.002110</td>\n",
       "      <td>210.287898</td>\n",
       "      <td>237.008439</td>\n",
       "      <td>52.009614</td>\n",
       "      <td>120.016666</td>\n",
       "      <td>58.034473</td>\n",
       "      <td>62.008064</td>\n",
       "      <td>46.173586</td>\n",
       "      <td>42.107007</td>\n",
       "      <td>1.127036</td>\n",
       "      <td>2.307586</td>\n",
       "      <td>img_1066_face0.jpg</td>\n",
       "      <td>White</td>\n",
       "      <td>Female</td>\n",
       "      <td>20-29</td>\n",
       "      <td>img_1066</td>\n",
       "      <td>41.191406</td>\n",
       "      <td>Female</td>\n",
       "      <td>1</td>\n",
       "      <td>img_1066.bmp</td>\n",
       "    </tr>\n",
       "    <tr>\n",
       "      <th>1</th>\n",
       "      <td>226.035395</td>\n",
       "      <td>200.010000</td>\n",
       "      <td>220.002273</td>\n",
       "      <td>51.000000</td>\n",
       "      <td>104.076895</td>\n",
       "      <td>38.052595</td>\n",
       "      <td>62.072538</td>\n",
       "      <td>43.011626</td>\n",
       "      <td>41.048752</td>\n",
       "      <td>1.130120</td>\n",
       "      <td>2.040723</td>\n",
       "      <td>img_1585_face0.jpg</td>\n",
       "      <td>White</td>\n",
       "      <td>Male</td>\n",
       "      <td>20-29</td>\n",
       "      <td>img_1585</td>\n",
       "      <td>24.658895</td>\n",
       "      <td>Male</td>\n",
       "      <td>1</td>\n",
       "      <td>img_1585.bmp</td>\n",
       "    </tr>\n",
       "    <tr>\n",
       "      <th>2</th>\n",
       "      <td>241.101638</td>\n",
       "      <td>209.193690</td>\n",
       "      <td>239.075302</td>\n",
       "      <td>42.011903</td>\n",
       "      <td>87.005747</td>\n",
       "      <td>32.062439</td>\n",
       "      <td>65.000000</td>\n",
       "      <td>42.107007</td>\n",
       "      <td>43.011626</td>\n",
       "      <td>1.152528</td>\n",
       "      <td>2.070978</td>\n",
       "      <td>img_3852_face0.jpg</td>\n",
       "      <td>White</td>\n",
       "      <td>Female</td>\n",
       "      <td>20-29</td>\n",
       "      <td>img_3852</td>\n",
       "      <td>39.151259</td>\n",
       "      <td>Female</td>\n",
       "      <td>0</td>\n",
       "      <td>img_3852.bmp</td>\n",
       "    </tr>\n",
       "    <tr>\n",
       "      <th>3</th>\n",
       "      <td>229.490741</td>\n",
       "      <td>198.494332</td>\n",
       "      <td>229.176788</td>\n",
       "      <td>53.037722</td>\n",
       "      <td>80.056230</td>\n",
       "      <td>12.000000</td>\n",
       "      <td>54.083269</td>\n",
       "      <td>42.011903</td>\n",
       "      <td>41.012193</td>\n",
       "      <td>1.156158</td>\n",
       "      <td>1.509421</td>\n",
       "      <td>img_1857_face0.jpg</td>\n",
       "      <td>East Asian</td>\n",
       "      <td>Male</td>\n",
       "      <td>30-39</td>\n",
       "      <td>img_1857</td>\n",
       "      <td>25.845588</td>\n",
       "      <td>Male</td>\n",
       "      <td>1</td>\n",
       "      <td>img_1857.bmp</td>\n",
       "    </tr>\n",
       "    <tr>\n",
       "      <th>4</th>\n",
       "      <td>235.552542</td>\n",
       "      <td>201.613492</td>\n",
       "      <td>235.766834</td>\n",
       "      <td>48.041649</td>\n",
       "      <td>77.524190</td>\n",
       "      <td>27.892651</td>\n",
       "      <td>60.299254</td>\n",
       "      <td>34.014703</td>\n",
       "      <td>41.194660</td>\n",
       "      <td>1.168337</td>\n",
       "      <td>1.613687</td>\n",
       "      <td>img_4196_face0.jpg</td>\n",
       "      <td>White</td>\n",
       "      <td>Male</td>\n",
       "      <td>20-29</td>\n",
       "      <td>img_4196</td>\n",
       "      <td>36.243556</td>\n",
       "      <td>Male</td>\n",
       "      <td>0</td>\n",
       "      <td>img_4196.bmp</td>\n",
       "    </tr>\n",
       "  </tbody>\n",
       "</table>\n",
       "</div>"
      ],
      "text/plain": [
       "    jaw_width  face_height  cheekbone_width  nose_width  mouth_width  \\\n",
       "0  237.002110   210.287898       237.008439   52.009614   120.016666   \n",
       "1  226.035395   200.010000       220.002273   51.000000   104.076895   \n",
       "2  241.101638   209.193690       239.075302   42.011903    87.005747   \n",
       "3  229.490741   198.494332       229.176788   53.037722    80.056230   \n",
       "4  235.552542   201.613492       235.766834   48.041649    77.524190   \n",
       "\n",
       "   mouth_height  eye_distance  left_eye_width  right_eye_width  \\\n",
       "0     58.034473     62.008064       46.173586        42.107007   \n",
       "1     38.052595     62.072538       43.011626        41.048752   \n",
       "2     32.062439     65.000000       42.107007        43.011626   \n",
       "3     12.000000     54.083269       42.011903        41.012193   \n",
       "4     27.892651     60.299254       34.014703        41.194660   \n",
       "\n",
       "   face_width_to_height  mouth_to_nose_ratio               image        race  \\\n",
       "0              1.127036             2.307586  img_1066_face0.jpg       White   \n",
       "1              1.130120             2.040723  img_1585_face0.jpg       White   \n",
       "2              1.152528             2.070978  img_3852_face0.jpg       White   \n",
       "3              1.156158             1.509421  img_1857_face0.jpg  East Asian   \n",
       "4              1.168337             1.613687  img_4196_face0.jpg       White   \n",
       "\n",
       "  pred_gender    age       key        bmi  gender  is_training          name  \n",
       "0      Female  20-29  img_1066  41.191406  Female            1  img_1066.bmp  \n",
       "1        Male  20-29  img_1585  24.658895    Male            1  img_1585.bmp  \n",
       "2      Female  20-29  img_3852  39.151259  Female            0  img_3852.bmp  \n",
       "3        Male  30-39  img_1857  25.845588    Male            1  img_1857.bmp  \n",
       "4        Male  20-29  img_4196  36.243556    Male            0  img_4196.bmp  "
      ]
     },
     "execution_count": 33,
     "metadata": {},
     "output_type": "execute_result"
    }
   ],
   "source": [
    "features_df = pd.read_csv('data/Feature_Add.csv')\n",
    "features_df.head()"
   ]
  },
  {
   "cell_type": "code",
   "execution_count": 34,
   "metadata": {},
   "outputs": [
    {
     "name": "stdout",
     "output_type": "stream",
     "text": [
      "Combined dataset shape: (3712, 17)\n"
     ]
    },
    {
     "data": {
      "text/html": [
       "<div>\n",
       "<style scoped>\n",
       "    .dataframe tbody tr th:only-of-type {\n",
       "        vertical-align: middle;\n",
       "    }\n",
       "\n",
       "    .dataframe tbody tr th {\n",
       "        vertical-align: top;\n",
       "    }\n",
       "\n",
       "    .dataframe thead th {\n",
       "        text-align: right;\n",
       "    }\n",
       "</style>\n",
       "<table border=\"1\" class=\"dataframe\">\n",
       "  <thead>\n",
       "    <tr style=\"text-align: right;\">\n",
       "      <th></th>\n",
       "      <th>bmi</th>\n",
       "      <th>is_training</th>\n",
       "      <th>name</th>\n",
       "      <th>jaw_width</th>\n",
       "      <th>face_height</th>\n",
       "      <th>cheekbone_width</th>\n",
       "      <th>nose_width</th>\n",
       "      <th>mouth_width</th>\n",
       "      <th>mouth_height</th>\n",
       "      <th>eye_distance</th>\n",
       "      <th>left_eye_width</th>\n",
       "      <th>right_eye_width</th>\n",
       "      <th>face_width_to_height</th>\n",
       "      <th>mouth_to_nose_ratio</th>\n",
       "      <th>race</th>\n",
       "      <th>pred_gender</th>\n",
       "      <th>age</th>\n",
       "    </tr>\n",
       "  </thead>\n",
       "  <tbody>\n",
       "    <tr>\n",
       "      <th>0</th>\n",
       "      <td>34.207396</td>\n",
       "      <td>1</td>\n",
       "      <td>img_0.bmp</td>\n",
       "      <td>242.008264</td>\n",
       "      <td>176.045449</td>\n",
       "      <td>239.002092</td>\n",
       "      <td>50.000000</td>\n",
       "      <td>97.020616</td>\n",
       "      <td>18.027756</td>\n",
       "      <td>62.008064</td>\n",
       "      <td>44.045431</td>\n",
       "      <td>43.046487</td>\n",
       "      <td>1.374692</td>\n",
       "      <td>1.940412</td>\n",
       "      <td>White</td>\n",
       "      <td>Male</td>\n",
       "      <td>30-39</td>\n",
       "    </tr>\n",
       "    <tr>\n",
       "      <th>1</th>\n",
       "      <td>26.453720</td>\n",
       "      <td>1</td>\n",
       "      <td>img_1.bmp</td>\n",
       "      <td>227.140925</td>\n",
       "      <td>185.067555</td>\n",
       "      <td>220.056811</td>\n",
       "      <td>48.041649</td>\n",
       "      <td>88.051122</td>\n",
       "      <td>22.022716</td>\n",
       "      <td>59.008474</td>\n",
       "      <td>41.012193</td>\n",
       "      <td>43.185646</td>\n",
       "      <td>1.227341</td>\n",
       "      <td>1.832808</td>\n",
       "      <td>White</td>\n",
       "      <td>Male</td>\n",
       "      <td>20-29</td>\n",
       "    </tr>\n",
       "    <tr>\n",
       "      <th>2</th>\n",
       "      <td>34.967561</td>\n",
       "      <td>1</td>\n",
       "      <td>img_2.bmp</td>\n",
       "      <td>269.185809</td>\n",
       "      <td>217.057596</td>\n",
       "      <td>266.030073</td>\n",
       "      <td>48.000000</td>\n",
       "      <td>103.019416</td>\n",
       "      <td>51.000000</td>\n",
       "      <td>59.033889</td>\n",
       "      <td>42.011903</td>\n",
       "      <td>44.045431</td>\n",
       "      <td>1.240158</td>\n",
       "      <td>2.146238</td>\n",
       "      <td>White</td>\n",
       "      <td>Female</td>\n",
       "      <td>20-29</td>\n",
       "    </tr>\n",
       "    <tr>\n",
       "      <th>3</th>\n",
       "      <td>22.044766</td>\n",
       "      <td>1</td>\n",
       "      <td>img_3.bmp</td>\n",
       "      <td>244.018442</td>\n",
       "      <td>216.148097</td>\n",
       "      <td>239.002092</td>\n",
       "      <td>44.045431</td>\n",
       "      <td>102.044108</td>\n",
       "      <td>50.039984</td>\n",
       "      <td>59.008474</td>\n",
       "      <td>41.000000</td>\n",
       "      <td>41.012193</td>\n",
       "      <td>1.128941</td>\n",
       "      <td>2.316792</td>\n",
       "      <td>White</td>\n",
       "      <td>Female</td>\n",
       "      <td>20-29</td>\n",
       "    </tr>\n",
       "    <tr>\n",
       "      <th>4</th>\n",
       "      <td>25.845588</td>\n",
       "      <td>1</td>\n",
       "      <td>img_6.bmp</td>\n",
       "      <td>238.838858</td>\n",
       "      <td>196.063765</td>\n",
       "      <td>236.541751</td>\n",
       "      <td>48.041649</td>\n",
       "      <td>93.085982</td>\n",
       "      <td>24.020824</td>\n",
       "      <td>69.260378</td>\n",
       "      <td>48.259714</td>\n",
       "      <td>47.010637</td>\n",
       "      <td>1.218169</td>\n",
       "      <td>1.937610</td>\n",
       "      <td>White</td>\n",
       "      <td>Female</td>\n",
       "      <td>10-19</td>\n",
       "    </tr>\n",
       "  </tbody>\n",
       "</table>\n",
       "</div>"
      ],
      "text/plain": [
       "         bmi  is_training       name   jaw_width  face_height  \\\n",
       "0  34.207396            1  img_0.bmp  242.008264   176.045449   \n",
       "1  26.453720            1  img_1.bmp  227.140925   185.067555   \n",
       "2  34.967561            1  img_2.bmp  269.185809   217.057596   \n",
       "3  22.044766            1  img_3.bmp  244.018442   216.148097   \n",
       "4  25.845588            1  img_6.bmp  238.838858   196.063765   \n",
       "\n",
       "   cheekbone_width  nose_width  mouth_width  mouth_height  eye_distance  \\\n",
       "0       239.002092   50.000000    97.020616     18.027756     62.008064   \n",
       "1       220.056811   48.041649    88.051122     22.022716     59.008474   \n",
       "2       266.030073   48.000000   103.019416     51.000000     59.033889   \n",
       "3       239.002092   44.045431   102.044108     50.039984     59.008474   \n",
       "4       236.541751   48.041649    93.085982     24.020824     69.260378   \n",
       "\n",
       "   left_eye_width  right_eye_width  face_width_to_height  mouth_to_nose_ratio  \\\n",
       "0       44.045431        43.046487              1.374692             1.940412   \n",
       "1       41.012193        43.185646              1.227341             1.832808   \n",
       "2       42.011903        44.045431              1.240158             2.146238   \n",
       "3       41.000000        41.012193              1.128941             2.316792   \n",
       "4       48.259714        47.010637              1.218169             1.937610   \n",
       "\n",
       "    race pred_gender    age  \n",
       "0  White        Male  30-39  \n",
       "1  White        Male  20-29  \n",
       "2  White      Female  20-29  \n",
       "3  White      Female  20-29  \n",
       "4  White      Female  10-19  "
      ]
     },
     "execution_count": 34,
     "metadata": {},
     "output_type": "execute_result"
    }
   ],
   "source": [
    "df = pd.merge(data_df, features_df, on=['gender', 'bmi', 'name', 'is_training'], how='inner')\n",
    "df.drop(columns=['key', 'image', 'gender'], inplace=True)\n",
    "print(\"Combined dataset shape:\", df.shape)\n",
    "df.head()"
   ]
  },
  {
   "cell_type": "code",
   "execution_count": 35,
   "metadata": {},
   "outputs": [
    {
     "data": {
      "text/html": [
       "<div>\n",
       "<style scoped>\n",
       "    .dataframe tbody tr th:only-of-type {\n",
       "        vertical-align: middle;\n",
       "    }\n",
       "\n",
       "    .dataframe tbody tr th {\n",
       "        vertical-align: top;\n",
       "    }\n",
       "\n",
       "    .dataframe thead th {\n",
       "        text-align: right;\n",
       "    }\n",
       "</style>\n",
       "<table border=\"1\" class=\"dataframe\">\n",
       "  <thead>\n",
       "    <tr style=\"text-align: right;\">\n",
       "      <th></th>\n",
       "      <th>bmi</th>\n",
       "      <th>is_training</th>\n",
       "      <th>name</th>\n",
       "      <th>jaw_width</th>\n",
       "      <th>face_height</th>\n",
       "      <th>cheekbone_width</th>\n",
       "      <th>nose_width</th>\n",
       "      <th>mouth_width</th>\n",
       "      <th>mouth_height</th>\n",
       "      <th>eye_distance</th>\n",
       "      <th>left_eye_width</th>\n",
       "      <th>right_eye_width</th>\n",
       "      <th>face_width_to_height</th>\n",
       "      <th>mouth_to_nose_ratio</th>\n",
       "      <th>race</th>\n",
       "      <th>pred_gender</th>\n",
       "      <th>age</th>\n",
       "      <th>bmi_norm</th>\n",
       "    </tr>\n",
       "  </thead>\n",
       "  <tbody>\n",
       "    <tr>\n",
       "      <th>0</th>\n",
       "      <td>34.207396</td>\n",
       "      <td>1</td>\n",
       "      <td>img_0.bmp</td>\n",
       "      <td>242.008264</td>\n",
       "      <td>176.045449</td>\n",
       "      <td>239.002092</td>\n",
       "      <td>50.000000</td>\n",
       "      <td>97.020616</td>\n",
       "      <td>18.027756</td>\n",
       "      <td>62.008064</td>\n",
       "      <td>44.045431</td>\n",
       "      <td>43.046487</td>\n",
       "      <td>1.374692</td>\n",
       "      <td>1.940412</td>\n",
       "      <td>White</td>\n",
       "      <td>Male</td>\n",
       "      <td>30-39</td>\n",
       "      <td>0.191720</td>\n",
       "    </tr>\n",
       "    <tr>\n",
       "      <th>1</th>\n",
       "      <td>26.453720</td>\n",
       "      <td>1</td>\n",
       "      <td>img_1.bmp</td>\n",
       "      <td>227.140925</td>\n",
       "      <td>185.067555</td>\n",
       "      <td>220.056811</td>\n",
       "      <td>48.041649</td>\n",
       "      <td>88.051122</td>\n",
       "      <td>22.022716</td>\n",
       "      <td>59.008474</td>\n",
       "      <td>41.012193</td>\n",
       "      <td>43.185646</td>\n",
       "      <td>1.227341</td>\n",
       "      <td>1.832808</td>\n",
       "      <td>White</td>\n",
       "      <td>Male</td>\n",
       "      <td>20-29</td>\n",
       "      <td>-0.762228</td>\n",
       "    </tr>\n",
       "    <tr>\n",
       "      <th>2</th>\n",
       "      <td>34.967561</td>\n",
       "      <td>1</td>\n",
       "      <td>img_2.bmp</td>\n",
       "      <td>269.185809</td>\n",
       "      <td>217.057596</td>\n",
       "      <td>266.030073</td>\n",
       "      <td>48.000000</td>\n",
       "      <td>103.019416</td>\n",
       "      <td>51.000000</td>\n",
       "      <td>59.033889</td>\n",
       "      <td>42.011903</td>\n",
       "      <td>44.045431</td>\n",
       "      <td>1.240158</td>\n",
       "      <td>2.146238</td>\n",
       "      <td>White</td>\n",
       "      <td>Female</td>\n",
       "      <td>20-29</td>\n",
       "      <td>0.285244</td>\n",
       "    </tr>\n",
       "    <tr>\n",
       "      <th>3</th>\n",
       "      <td>22.044766</td>\n",
       "      <td>1</td>\n",
       "      <td>img_3.bmp</td>\n",
       "      <td>244.018442</td>\n",
       "      <td>216.148097</td>\n",
       "      <td>239.002092</td>\n",
       "      <td>44.045431</td>\n",
       "      <td>102.044108</td>\n",
       "      <td>50.039984</td>\n",
       "      <td>59.008474</td>\n",
       "      <td>41.000000</td>\n",
       "      <td>41.012193</td>\n",
       "      <td>1.128941</td>\n",
       "      <td>2.316792</td>\n",
       "      <td>White</td>\n",
       "      <td>Female</td>\n",
       "      <td>20-29</td>\n",
       "      <td>-1.304670</td>\n",
       "    </tr>\n",
       "    <tr>\n",
       "      <th>4</th>\n",
       "      <td>25.845588</td>\n",
       "      <td>1</td>\n",
       "      <td>img_6.bmp</td>\n",
       "      <td>238.838858</td>\n",
       "      <td>196.063765</td>\n",
       "      <td>236.541751</td>\n",
       "      <td>48.041649</td>\n",
       "      <td>93.085982</td>\n",
       "      <td>24.020824</td>\n",
       "      <td>69.260378</td>\n",
       "      <td>48.259714</td>\n",
       "      <td>47.010637</td>\n",
       "      <td>1.218169</td>\n",
       "      <td>1.937610</td>\n",
       "      <td>White</td>\n",
       "      <td>Female</td>\n",
       "      <td>10-19</td>\n",
       "      <td>-0.837048</td>\n",
       "    </tr>\n",
       "  </tbody>\n",
       "</table>\n",
       "</div>"
      ],
      "text/plain": [
       "         bmi  is_training       name   jaw_width  face_height  \\\n",
       "0  34.207396            1  img_0.bmp  242.008264   176.045449   \n",
       "1  26.453720            1  img_1.bmp  227.140925   185.067555   \n",
       "2  34.967561            1  img_2.bmp  269.185809   217.057596   \n",
       "3  22.044766            1  img_3.bmp  244.018442   216.148097   \n",
       "4  25.845588            1  img_6.bmp  238.838858   196.063765   \n",
       "\n",
       "   cheekbone_width  nose_width  mouth_width  mouth_height  eye_distance  \\\n",
       "0       239.002092   50.000000    97.020616     18.027756     62.008064   \n",
       "1       220.056811   48.041649    88.051122     22.022716     59.008474   \n",
       "2       266.030073   48.000000   103.019416     51.000000     59.033889   \n",
       "3       239.002092   44.045431   102.044108     50.039984     59.008474   \n",
       "4       236.541751   48.041649    93.085982     24.020824     69.260378   \n",
       "\n",
       "   left_eye_width  right_eye_width  face_width_to_height  mouth_to_nose_ratio  \\\n",
       "0       44.045431        43.046487              1.374692             1.940412   \n",
       "1       41.012193        43.185646              1.227341             1.832808   \n",
       "2       42.011903        44.045431              1.240158             2.146238   \n",
       "3       41.000000        41.012193              1.128941             2.316792   \n",
       "4       48.259714        47.010637              1.218169             1.937610   \n",
       "\n",
       "    race pred_gender    age  bmi_norm  \n",
       "0  White        Male  30-39  0.191720  \n",
       "1  White        Male  20-29 -0.762228  \n",
       "2  White      Female  20-29  0.285244  \n",
       "3  White      Female  20-29 -1.304670  \n",
       "4  White      Female  10-19 -0.837048  "
      ]
     },
     "execution_count": 35,
     "metadata": {},
     "output_type": "execute_result"
    }
   ],
   "source": [
    "# Normalize target variable\n",
    "bmi_mean = df['bmi'].mean()\n",
    "bmi_std = df['bmi'].std()\n",
    "df['bmi_norm'] = (df['bmi'] - bmi_mean) / bmi_std\n",
    "df.head()"
   ]
  },
  {
   "cell_type": "code",
   "execution_count": 36,
   "metadata": {},
   "outputs": [
    {
     "name": "stdout",
     "output_type": "stream",
     "text": [
      "Entire data shape: (3712, 18)\n",
      "Gender Distribution Over Entire Dataset:\n",
      "  pred_gender  percentage\n",
      "0        Male    0.581088\n",
      "1      Female    0.418912\n",
      "\n",
      "Training data shape: (3008, 18)\n",
      "Gender Distribution Over Training Dataset:\n",
      "  pred_gender  percentage\n",
      "0        Male    0.590093\n",
      "1      Female    0.409907\n",
      "\n",
      "Testing data shape: (704, 18)\n",
      "Gender Distribution Over Testing Dataset:\n",
      "  pred_gender  percentage\n",
      "0        Male    0.542614\n",
      "1      Female    0.457386\n",
      "\n"
     ]
    }
   ],
   "source": [
    "#### General information ####\n",
    "print(f\"Entire data shape: {df.shape}\")\n",
    "gender_total = df['pred_gender'].value_counts() / len(df)\n",
    "gender_total = gender_total.reset_index()\n",
    "gender_total.rename(columns={'count': 'percentage'}, inplace=True)\n",
    "print(f\"Gender Distribution Over Entire Dataset:\\n{gender_total}\\n\")\n",
    "\n",
    "# Split into training and testing sets\n",
    "training_data_df = df[df['is_training'] == 1]\n",
    "testing_data_df = df[df['is_training'] == 0]\n",
    "\n",
    "gender_training_data_df = training_data_df['pred_gender'].value_counts() / len(training_data_df)\n",
    "gender_training_data_df = gender_training_data_df.reset_index()\n",
    "gender_training_data_df.rename(columns={'count': 'percentage'}, inplace=True)\n",
    "print(f\"Training data shape: {training_data_df.shape}\")\n",
    "print(f\"Gender Distribution Over Training Dataset:\\n{gender_training_data_df}\\n\")\n",
    "\n",
    "gender_testing_data_df = testing_data_df['pred_gender'].value_counts() / len(testing_data_df)\n",
    "gender_testing_data_df = gender_testing_data_df.reset_index()\n",
    "gender_testing_data_df.rename(columns={'count': 'percentage'}, inplace=True)\n",
    "print(f\"Testing data shape: {testing_data_df.shape}\")\n",
    "print(f\"Gender Distribution Over Testing Dataset:\\n{gender_testing_data_df}\\n\")\n",
    "\n",
    "del data_df, features_df, gender_total, training_data_df, testing_data_df, gender_training_data_df, gender_testing_data_df"
   ]
  },
  {
   "cell_type": "code",
   "execution_count": 37,
   "metadata": {},
   "outputs": [
    {
     "data": {
      "text/html": [
       "<div>\n",
       "<style scoped>\n",
       "    .dataframe tbody tr th:only-of-type {\n",
       "        vertical-align: middle;\n",
       "    }\n",
       "\n",
       "    .dataframe tbody tr th {\n",
       "        vertical-align: top;\n",
       "    }\n",
       "\n",
       "    .dataframe thead th {\n",
       "        text-align: right;\n",
       "    }\n",
       "</style>\n",
       "<table border=\"1\" class=\"dataframe\">\n",
       "  <thead>\n",
       "    <tr style=\"text-align: right;\">\n",
       "      <th></th>\n",
       "      <th>bmi</th>\n",
       "      <th>is_training</th>\n",
       "      <th>name</th>\n",
       "      <th>jaw_width</th>\n",
       "      <th>face_height</th>\n",
       "      <th>cheekbone_width</th>\n",
       "      <th>nose_width</th>\n",
       "      <th>mouth_width</th>\n",
       "      <th>mouth_height</th>\n",
       "      <th>eye_distance</th>\n",
       "      <th>...</th>\n",
       "      <th>race_Latino_Hispanic</th>\n",
       "      <th>race_White</th>\n",
       "      <th>gender_Female</th>\n",
       "      <th>gender_Male</th>\n",
       "      <th>age_10-19</th>\n",
       "      <th>age_20-29</th>\n",
       "      <th>age_3-9</th>\n",
       "      <th>age_30-39</th>\n",
       "      <th>age_40-49</th>\n",
       "      <th>age_50-59</th>\n",
       "    </tr>\n",
       "  </thead>\n",
       "  <tbody>\n",
       "    <tr>\n",
       "      <th>0</th>\n",
       "      <td>34.207396</td>\n",
       "      <td>1</td>\n",
       "      <td>img_0.bmp</td>\n",
       "      <td>242.008264</td>\n",
       "      <td>176.045449</td>\n",
       "      <td>239.002092</td>\n",
       "      <td>50.000000</td>\n",
       "      <td>97.020616</td>\n",
       "      <td>18.027756</td>\n",
       "      <td>62.008064</td>\n",
       "      <td>...</td>\n",
       "      <td>0</td>\n",
       "      <td>1</td>\n",
       "      <td>0</td>\n",
       "      <td>1</td>\n",
       "      <td>0</td>\n",
       "      <td>0</td>\n",
       "      <td>0</td>\n",
       "      <td>1</td>\n",
       "      <td>0</td>\n",
       "      <td>0</td>\n",
       "    </tr>\n",
       "    <tr>\n",
       "      <th>1</th>\n",
       "      <td>26.453720</td>\n",
       "      <td>1</td>\n",
       "      <td>img_1.bmp</td>\n",
       "      <td>227.140925</td>\n",
       "      <td>185.067555</td>\n",
       "      <td>220.056811</td>\n",
       "      <td>48.041649</td>\n",
       "      <td>88.051122</td>\n",
       "      <td>22.022716</td>\n",
       "      <td>59.008474</td>\n",
       "      <td>...</td>\n",
       "      <td>0</td>\n",
       "      <td>1</td>\n",
       "      <td>0</td>\n",
       "      <td>1</td>\n",
       "      <td>0</td>\n",
       "      <td>1</td>\n",
       "      <td>0</td>\n",
       "      <td>0</td>\n",
       "      <td>0</td>\n",
       "      <td>0</td>\n",
       "    </tr>\n",
       "    <tr>\n",
       "      <th>2</th>\n",
       "      <td>34.967561</td>\n",
       "      <td>1</td>\n",
       "      <td>img_2.bmp</td>\n",
       "      <td>269.185809</td>\n",
       "      <td>217.057596</td>\n",
       "      <td>266.030073</td>\n",
       "      <td>48.000000</td>\n",
       "      <td>103.019416</td>\n",
       "      <td>51.000000</td>\n",
       "      <td>59.033889</td>\n",
       "      <td>...</td>\n",
       "      <td>0</td>\n",
       "      <td>1</td>\n",
       "      <td>1</td>\n",
       "      <td>0</td>\n",
       "      <td>0</td>\n",
       "      <td>1</td>\n",
       "      <td>0</td>\n",
       "      <td>0</td>\n",
       "      <td>0</td>\n",
       "      <td>0</td>\n",
       "    </tr>\n",
       "    <tr>\n",
       "      <th>3</th>\n",
       "      <td>22.044766</td>\n",
       "      <td>1</td>\n",
       "      <td>img_3.bmp</td>\n",
       "      <td>244.018442</td>\n",
       "      <td>216.148097</td>\n",
       "      <td>239.002092</td>\n",
       "      <td>44.045431</td>\n",
       "      <td>102.044108</td>\n",
       "      <td>50.039984</td>\n",
       "      <td>59.008474</td>\n",
       "      <td>...</td>\n",
       "      <td>0</td>\n",
       "      <td>1</td>\n",
       "      <td>1</td>\n",
       "      <td>0</td>\n",
       "      <td>0</td>\n",
       "      <td>1</td>\n",
       "      <td>0</td>\n",
       "      <td>0</td>\n",
       "      <td>0</td>\n",
       "      <td>0</td>\n",
       "    </tr>\n",
       "    <tr>\n",
       "      <th>4</th>\n",
       "      <td>25.845588</td>\n",
       "      <td>1</td>\n",
       "      <td>img_6.bmp</td>\n",
       "      <td>238.838858</td>\n",
       "      <td>196.063765</td>\n",
       "      <td>236.541751</td>\n",
       "      <td>48.041649</td>\n",
       "      <td>93.085982</td>\n",
       "      <td>24.020824</td>\n",
       "      <td>69.260378</td>\n",
       "      <td>...</td>\n",
       "      <td>0</td>\n",
       "      <td>1</td>\n",
       "      <td>1</td>\n",
       "      <td>0</td>\n",
       "      <td>1</td>\n",
       "      <td>0</td>\n",
       "      <td>0</td>\n",
       "      <td>0</td>\n",
       "      <td>0</td>\n",
       "      <td>0</td>\n",
       "    </tr>\n",
       "  </tbody>\n",
       "</table>\n",
       "<p>5 rows × 27 columns</p>\n",
       "</div>"
      ],
      "text/plain": [
       "         bmi  is_training       name   jaw_width  face_height  \\\n",
       "0  34.207396            1  img_0.bmp  242.008264   176.045449   \n",
       "1  26.453720            1  img_1.bmp  227.140925   185.067555   \n",
       "2  34.967561            1  img_2.bmp  269.185809   217.057596   \n",
       "3  22.044766            1  img_3.bmp  244.018442   216.148097   \n",
       "4  25.845588            1  img_6.bmp  238.838858   196.063765   \n",
       "\n",
       "   cheekbone_width  nose_width  mouth_width  mouth_height  eye_distance  ...  \\\n",
       "0       239.002092   50.000000    97.020616     18.027756     62.008064  ...   \n",
       "1       220.056811   48.041649    88.051122     22.022716     59.008474  ...   \n",
       "2       266.030073   48.000000   103.019416     51.000000     59.033889  ...   \n",
       "3       239.002092   44.045431   102.044108     50.039984     59.008474  ...   \n",
       "4       236.541751   48.041649    93.085982     24.020824     69.260378  ...   \n",
       "\n",
       "   race_Latino_Hispanic  race_White  gender_Female  gender_Male  age_10-19  \\\n",
       "0                     0           1              0            1          0   \n",
       "1                     0           1              0            1          0   \n",
       "2                     0           1              1            0          0   \n",
       "3                     0           1              1            0          0   \n",
       "4                     0           1              1            0          1   \n",
       "\n",
       "   age_20-29  age_3-9  age_30-39  age_40-49  age_50-59  \n",
       "0          0        0          1          0          0  \n",
       "1          1        0          0          0          0  \n",
       "2          1        0          0          0          0  \n",
       "3          1        0          0          0          0  \n",
       "4          0        0          0          0          0  \n",
       "\n",
       "[5 rows x 27 columns]"
      ]
     },
     "execution_count": 37,
     "metadata": {},
     "output_type": "execute_result"
    }
   ],
   "source": [
    "### One Hot Encode ###\n",
    "race_dummies = pd.get_dummies(df['race'], prefix='race').astype(int)\n",
    "gender_dummies = pd.get_dummies(df['pred_gender'], prefix='gender').astype(int)\n",
    "age_dummies = pd.get_dummies(df['age'], prefix='age').astype(int)\n",
    "\n",
    "# Fix column names immediately after get_dummies\n",
    "race_dummies.columns = [col.replace(\" \", \"_\") for col in race_dummies.columns]\n",
    "gender_dummies.columns = [col.replace(\" \", \"_\") for col in gender_dummies.columns]\n",
    "age_dummies.columns = [col.replace(\" \", \"_\") for col in age_dummies.columns]\n",
    "\n",
    "# Combine with original numeric features\n",
    "df_final = pd.concat([\n",
    "    df.drop(['race', 'pred_gender', 'age'], axis=1),\n",
    "    race_dummies,\n",
    "    gender_dummies,\n",
    "    age_dummies\n",
    "], axis=1)\n",
    "\n",
    "\n",
    "del df, race_dummies, gender_dummies, age_dummies\n",
    "df_final.head()"
   ]
  },
  {
   "cell_type": "code",
   "execution_count": 38,
   "metadata": {},
   "outputs": [
    {
     "data": {
      "text/plain": [
       "Index(['bmi', 'is_training', 'name', 'jaw_width', 'face_height',\n",
       "       'cheekbone_width', 'nose_width', 'mouth_width', 'mouth_height',\n",
       "       'eye_distance', 'left_eye_width', 'right_eye_width',\n",
       "       'face_width_to_height', 'mouth_to_nose_ratio', 'bmi_norm', 'race_Black',\n",
       "       'race_East_Asian', 'race_Latino_Hispanic', 'race_White',\n",
       "       'gender_Female', 'gender_Male', 'age_10-19', 'age_20-29', 'age_3-9',\n",
       "       'age_30-39', 'age_40-49', 'age_50-59'],\n",
       "      dtype='object')"
      ]
     },
     "execution_count": 38,
     "metadata": {},
     "output_type": "execute_result"
    }
   ],
   "source": [
    "df_final.columns"
   ]
  },
  {
   "cell_type": "code",
   "execution_count": 39,
   "metadata": {},
   "outputs": [
    {
     "name": "stdout",
     "output_type": "stream",
     "text": [
      "Series([], dtype: object)\n"
     ]
    }
   ],
   "source": [
    "extra_feature_cols = [col for col in df_final.columns if col not in ['name', 'bmi', 'bmi_norm' 'is_training']]\n",
    "print(df_final[extra_feature_cols].dtypes[df_final[extra_feature_cols].dtypes == \"object\"])"
   ]
  },
  {
   "cell_type": "markdown",
   "metadata": {},
   "source": [
    "### Face Detection & Alignment using MTCNN"
   ]
  },
  {
   "cell_type": "code",
   "execution_count": 40,
   "metadata": {},
   "outputs": [
    {
     "name": "stdout",
     "output_type": "stream",
     "text": [
      "Will use saved embeddings from prior process\n"
     ]
    }
   ],
   "source": [
    "# ===============================================\n",
    "# STEP X: Precompute and Cache Face Embeddings\n",
    "# ===============================================\n",
    "from facenet_pytorch import InceptionResnetV1, MTCNN\n",
    "from torchvision import transforms\n",
    "import torch\n",
    "from PIL import Image\n",
    "import os\n",
    "from tqdm import tqdm\n",
    "import numpy as np\n",
    "\n",
    "IMAGE_DIR = \"data/Images\"\n",
    "EMBEDDING_CACHE_DIR = \"data/embeddings\"\n",
    "os.makedirs(EMBEDDING_CACHE_DIR, exist_ok=True)\n",
    "\n",
    "device = torch.device(\"cpu\")\n",
    "# mtcnn = MTCNN(image_size=160, margin=20, post_process=True, device=device)\n",
    "mtcnn = MTCNN(image_size=224, margin=20, post_process=True, device=device)\n",
    "embedder = InceptionResnetV1(pretrained=\"vggface2\").eval().to(device)\n",
    "\n",
    "def extract_face_embedding(image_path):\n",
    "    img = Image.open(image_path).convert(\"RGB\")\n",
    "    face = mtcnn(img)\n",
    "    if face is None:\n",
    "        # return None\n",
    "        return torch.zeros(512).numpy()\n",
    "    face = face.unsqueeze(0).to(device)\n",
    "    with torch.no_grad():\n",
    "        embedding = embedder(face).squeeze(0).cpu().numpy()\n",
    "    return embedding\n",
    "\n",
    "generate_emb = input(\"Generate embeddings?: Y or N\").lower().strip() or \"n\"\n",
    "\n",
    "if generate_emb == 'y':\n",
    "    # Generate embeddings\n",
    "    for idx, row in tqdm(df_final.iterrows(), total=len(df_final), desc=\"Caching embeddings\"):\n",
    "        image_name = row[\"name\"]\n",
    "        image_path = os.path.join(IMAGE_DIR, image_name)\n",
    "        save_path = os.path.join(EMBEDDING_CACHE_DIR, image_name.replace(\".bmp\", \".npy\"))\n",
    "\n",
    "        # if not os.path.exists(save_path):\n",
    "        try:\n",
    "            embedding = extract_face_embedding(image_path)\n",
    "            if embedding is not None:\n",
    "                np.save(save_path, embedding)\n",
    "        except Exception as e:\n",
    "            print(f\"Failed {image_name}: {e}\")\n",
    "else: \n",
    "    print(\"Will use saved embeddings from prior process\")"
   ]
  },
  {
   "cell_type": "code",
   "execution_count": 41,
   "metadata": {},
   "outputs": [
    {
     "name": "stdout",
     "output_type": "stream",
     "text": [
      "(3712, 27)\n"
     ]
    }
   ],
   "source": [
    "# Remove images we were not able to create embeddings \n",
    "from pathlib import Path\n",
    "df_final = df_final[df_final[\"name\"].apply(lambda x: Path(\"data/embeddings\") / x.replace(\".bmp\", \".npy\")).apply(Path.exists)].reset_index(drop=True)\n",
    "print(df_final.shape)"
   ]
  },
  {
   "cell_type": "code",
   "execution_count": 42,
   "metadata": {},
   "outputs": [],
   "source": [
    "class BMIDataset(Dataset):\n",
    "    def __init__(self, dataframe, image_dir, embedding_dir=\"data/embeddings\"):\n",
    "        self.dataframe = dataframe.reset_index(drop=True)\n",
    "        self.image_dir = image_dir\n",
    "        self.embedding_dir = embedding_dir\n",
    "\n",
    "        # Identify tabular feature columns\n",
    "        self.extra_feature_cols = [\n",
    "            col for col in dataframe.columns\n",
    "            if col not in ['name', 'bmi', 'bmi_norm', 'is_training']\n",
    "        ]\n",
    "\n",
    "    def __len__(self):\n",
    "        return len(self.dataframe)\n",
    "\n",
    "    def __getitem__(self, idx):\n",
    "        row = self.dataframe.iloc[idx]\n",
    "        image_name = row[\"name\"]\n",
    "        # bmi = torch.tensor(row[\"bmi\"], dtype=torch.float32) #non normalized value \n",
    "        bmi = torch.tensor(row['bmi_norm'], dtype=torch.float32) # use normalized value\n",
    "        # Load cached face embedding\n",
    "        embedding_path = os.path.join(self.embedding_dir, image_name.replace(\".bmp\", \".npy\"))\n",
    "        embedding = np.load(embedding_path)\n",
    "        face_tensor = torch.tensor(embedding, dtype=torch.float32)\n",
    "\n",
    "        # Load extra tabular features\n",
    "        extra_features = torch.tensor(row[self.extra_feature_cols].values.astype(np.float32))\n",
    "\n",
    "        return face_tensor, extra_features, bmi"
   ]
  },
  {
   "cell_type": "code",
   "execution_count": 64,
   "metadata": {},
   "outputs": [],
   "source": [
    "# ===============================================\n",
    "# STEP 5: Model Definition (Widened Multitask)\n",
    "# ===============================================\n",
    "class BMIMultitaskModel(nn.Module):\n",
    "    def __init__(self, extra_feature_dim):\n",
    "        super().__init__()\n",
    "        self.backbone = None  # no longer needed with cached embeddings\n",
    "\n",
    "        # Wider shared layer\n",
    "        self.shared = nn.Sequential(\n",
    "            nn.Linear(512 + extra_feature_dim, 384),\n",
    "            nn.ReLU(),\n",
    "            nn.BatchNorm1d(384),\n",
    "            nn.Dropout(0.3),\n",
    "            nn.Linear(384, 256),\n",
    "            nn.ReLU(),\n",
    "            nn.BatchNorm1d(256),\n",
    "            nn.Dropout(0.3),\n",
    "        )\n",
    "\n",
    "        # BMI prediction head\n",
    "        self.bmi_head = nn.Sequential(\n",
    "            nn.Linear(256, 128),\n",
    "            nn.ReLU(),\n",
    "            nn.Dropout(0.3),\n",
    "            nn.Linear(128, 64),\n",
    "            nn.ReLU(),\n",
    "            nn.Linear(64, 1)\n",
    "        )\n",
    "\n",
    "        # Age group regression head\n",
    "        self.age_head = nn.Sequential(\n",
    "            nn.Linear(256, 128),\n",
    "            nn.ReLU(),\n",
    "            nn.Dropout(0.3),\n",
    "            nn.Linear(128, 64),\n",
    "            nn.ReLU(),\n",
    "            nn.Linear(64, 1)\n",
    "        )\n",
    "\n",
    "        # Gender classification head (binary)\n",
    "        self.gender_head = nn.Sequential(\n",
    "            nn.Linear(256, 128),\n",
    "            nn.ReLU(),\n",
    "            nn.Dropout(0.3),\n",
    "            nn.Linear(128, 64),\n",
    "            nn.ReLU(),\n",
    "            nn.Linear(64, 1)  # Sigmoid for binary classification\n",
    "        )\n",
    "\n",
    "    def forward(self, face_embed, extra_features):\n",
    "        x = torch.cat([face_embed, extra_features], dim=1)\n",
    "        x = self.shared(x)\n",
    "\n",
    "        bmi = self.bmi_head(x).squeeze(1)\n",
    "        age = self.age_head(x).squeeze(1)\n",
    "        gender = self.gender_head(x).squeeze(1)  # sigmoid if binary\n",
    "\n",
    "        return bmi, age, gender"
   ]
  },
  {
   "cell_type": "code",
   "execution_count": 65,
   "metadata": {},
   "outputs": [
    {
     "name": "stdout",
     "output_type": "stream",
     "text": [
      "Training set shape: (2105, 27)\n",
      "Validation set shape: (903, 27)\n",
      "Number of Males in training set shape: 1241; 58.95%\n",
      "Number of Females in training set shape: 864; 41.05%\n",
      "Number of Males in validation set shape: 534; 59.14%\n",
      "Number of Females in validation set shape: 369; 40.86%\n"
     ]
    }
   ],
   "source": [
    "# ===============================================\n",
    "# STEP 6: Prepare Data Loaders\n",
    "# ===============================================\n",
    "\n",
    "# Obtain values to normalize target variable\n",
    "\n",
    "X_train = df_final[df_final['is_training'] == 1]\n",
    "test_df = df_final[df_final['is_training'] == 0]\n",
    "\n",
    "# Create validation set\n",
    "validation_set_percent = 0.3\n",
    "\n",
    "train_df, validation_df = train_test_split(X_train, test_size=0.3, random_state=42)\n",
    "\n",
    "print(f\"Training set shape: {train_df.shape}\")\n",
    "print(f\"Validation set shape: {validation_df.shape}\")\n",
    "print(f\"Number of Males in training set shape: {train_df['gender_Male'].sum()}; {train_df['gender_Male'].sum()/len(train_df) * 100:.2f}%\")\n",
    "print(f\"Number of Females in training set shape: {train_df['gender_Female'].sum()}; {train_df['gender_Female'].sum()/len(train_df) * 100:.2f}%\")\n",
    "print(f\"Number of Males in validation set shape: {validation_df['gender_Male'].sum()}; {validation_df['gender_Male'].sum()/len(validation_df) * 100:.2f}%\")\n",
    "print(f\"Number of Females in validation set shape: {validation_df['gender_Female'].sum()}; {validation_df['gender_Female'].sum()/len(validation_df) * 100:.2f}%\")\n",
    "\n",
    "train_dataset = BMIDataset(train_df, image_dir=IMAGE_DIR)\n",
    "val_dataset = BMIDataset(validation_df, image_dir=IMAGE_DIR)\n",
    "test_dataset = BMIDataset(test_df, image_dir=IMAGE_DIR)\n",
    "\n",
    "train_loader = DataLoader(train_dataset, batch_size=32, shuffle=True, num_workers=0)\n",
    "validation_loader = DataLoader(val_dataset, batch_size=32, shuffle=True, num_workers=0)\n",
    "test_loader = DataLoader(test_dataset, batch_size=32, shuffle=False, num_workers=0)"
   ]
  },
  {
   "cell_type": "code",
   "execution_count": 66,
   "metadata": {},
   "outputs": [],
   "source": [
    "# Configure paths for best model\n",
    "MODEL_PATH = \"saved_models/best_bmi_prediction_model.pth\"\n",
    "os.makedirs(os.path.dirname(MODEL_PATH), exist_ok=True)"
   ]
  },
  {
   "cell_type": "code",
   "execution_count": 67,
   "metadata": {},
   "outputs": [],
   "source": [
    "# ===============================================\n",
    "# STEP 7: Training Loop\n",
    "# ===============================================\n",
    "\n",
    "def evaluate(model, criterion, dataloader):\n",
    "    model.eval()\n",
    "    val_loss = 0.0\n",
    "    all_preds, all_labels = [], []\n",
    "    with torch.no_grad():\n",
    "        for face, extra, bmi in tqdm(dataloader, desc=\"Evaluating\", leave=False):\n",
    "            face = face.to(DEVICE, non_blocking=True)\n",
    "            extra = extra.to(DEVICE, non_blocking=True)\n",
    "            bmi = bmi.to(DEVICE, non_blocking=True)\n",
    "\n",
    "            pred_bmi, _, _ = model(face, extra)\n",
    "            loss = criterion(pred_bmi, bmi)\n",
    "            val_loss += loss.item()\n",
    "            all_preds.append(pred_bmi.cpu().numpy())\n",
    "            all_labels.append(bmi.cpu().numpy())\n",
    "    \n",
    "    avg_val_loss = val_loss / len(dataloader)\n",
    "    \n",
    "    preds = np.concatenate(all_preds)\n",
    "    labels = np.concatenate(all_labels)\n",
    "    \n",
    "    # Reverse transformation from normalized bmi values\n",
    "    preds = preds * bmi_std + bmi_mean\n",
    "    labels = labels * bmi_std + bmi_mean\n",
    "    \n",
    "    # Evaluate performance\n",
    "    mae = mean_absolute_error(labels, preds)\n",
    "    r2 = r2_score(labels, preds)\n",
    "    pearson_corr, _ = pearsonr(labels, preds)\n",
    "\n",
    "    print(f\"Evaluation: MAE={mae:.2f}, R²={r2:.3f}, Pearson r={pearson_corr:.3f}\")\n",
    "    return avg_val_loss, mae, r2, pearson_corr\n",
    "\n",
    "def train_epoch(model, optimizer, criterion, dataloader):\n",
    "    model.train()\n",
    "    total_loss = 0\n",
    "    for face, extra, bmi in tqdm(dataloader, desc=\"Training\", leave=False):\n",
    "        # face, extra, bmi = face.to(DEVICE), extra.to(DEVICE), bmi.to(DEVICE)\n",
    "        face = face.to(DEVICE, non_blocking=True)\n",
    "        extra = extra.to(DEVICE, non_blocking=True)\n",
    "        bmi = bmi.to(DEVICE, non_blocking=True)\n",
    "        \n",
    "        optimizer.zero_grad()\n",
    "        pred_bmi, _, _ = model(face, extra)  # Only use BMI for loss\n",
    "        loss = criterion(pred_bmi, bmi)\n",
    "        loss.backward()\n",
    "        optimizer.step()\n",
    "        total_loss += loss.item()\n",
    "    \n",
    "    return total_loss / len(dataloader)\n",
    "\n",
    "def train_model(model, optimizer, criterion, epochs=150):\n",
    "    best_val_loss = float('inf')\n",
    "    \n",
    "    for epoch in range(epochs):\n",
    "        loss = train_epoch(model, optimizer, criterion, train_loader)\n",
    "        avg_val_loss, val_mae, r2_value, pearson_corr = evaluate(model, criterion, validation_loader)\n",
    "        print(f\"Epoch [{epoch+1}/{epochs}]: Train Loss={loss:.4f}, Val Loss={avg_val_loss:.4f}, Val MAE={val_mae:.3f}, Val R^2={r2_value:.3f}, Val Pearson Coefficient={pearson_corr:.3f}\")\n",
    "        \n",
    "        # Save best model\n",
    "        if avg_val_loss < best_val_loss:\n",
    "            print(f\"Prior best: {best_val_loss}\")\n",
    "            best_val_loss = avg_val_loss\n",
    "            print(f\"Current best: {best_val_loss}\")\n",
    "            torch.save(model.state_dict(), MODEL_PATH)\n",
    "            print(f\"Best model saved to: {MODEL_PATH}\")\n",
    "\n",
    "def load_best_model(extra_feature_dim):\n",
    "    model = BMIMultitaskModel(extra_feature_dim=extra_feature_dim).to(DEVICE)\n",
    "    checkpoint = torch.load(MODEL_PATH, map_location=DEVICE)\n",
    "    model.load_state_dict(checkpoint)\n",
    "    return model"
   ]
  },
  {
   "cell_type": "code",
   "execution_count": 73,
   "metadata": {},
   "outputs": [
    {
     "name": "stdout",
     "output_type": "stream",
     "text": [
      "Beginning training\n"
     ]
    },
    {
     "name": "stderr",
     "output_type": "stream",
     "text": [
      "                                                           \r"
     ]
    },
    {
     "name": "stdout",
     "output_type": "stream",
     "text": [
      "Evaluation: MAE=5.91, R²=0.159, Pearson r=0.409\n",
      "Epoch [1/150]: Train Loss=0.8675, Val Loss=0.8399, Val MAE=5.913, Val R^2=0.159, Val Pearson Coefficient=0.409\n",
      "Prior best: inf\n",
      "Current best: 0.8399127002420097\n",
      "Best model saved to: saved_models/best_bmi_prediction_model.pth\n"
     ]
    },
    {
     "name": "stderr",
     "output_type": "stream",
     "text": [
      "                                                            \r"
     ]
    },
    {
     "name": "stdout",
     "output_type": "stream",
     "text": [
      "Evaluation: MAE=5.78, R²=0.195, Pearson r=0.445\n",
      "Epoch [2/150]: Train Loss=0.8155, Val Loss=0.8190, Val MAE=5.781, Val R^2=0.195, Val Pearson Coefficient=0.445\n",
      "Prior best: 0.8399127002420097\n",
      "Current best: 0.8190476688845404\n",
      "Best model saved to: saved_models/best_bmi_prediction_model.pth\n"
     ]
    },
    {
     "name": "stderr",
     "output_type": "stream",
     "text": [
      "                                                            \r"
     ]
    },
    {
     "name": "stdout",
     "output_type": "stream",
     "text": [
      "Evaluation: MAE=5.59, R²=0.180, Pearson r=0.466\n",
      "Epoch [3/150]: Train Loss=0.7717, Val Loss=0.8265, Val MAE=5.591, Val R^2=0.180, Val Pearson Coefficient=0.466\n"
     ]
    },
    {
     "name": "stderr",
     "output_type": "stream",
     "text": [
      "                                                            \r"
     ]
    },
    {
     "name": "stdout",
     "output_type": "stream",
     "text": [
      "Evaluation: MAE=5.53, R²=0.232, Pearson r=0.483\n",
      "Epoch [4/150]: Train Loss=0.7547, Val Loss=0.7704, Val MAE=5.532, Val R^2=0.232, Val Pearson Coefficient=0.483\n",
      "Prior best: 0.8190476688845404\n",
      "Current best: 0.7704322009251036\n",
      "Best model saved to: saved_models/best_bmi_prediction_model.pth\n"
     ]
    },
    {
     "name": "stderr",
     "output_type": "stream",
     "text": [
      "                                                            \r"
     ]
    },
    {
     "name": "stdout",
     "output_type": "stream",
     "text": [
      "Evaluation: MAE=5.46, R²=0.237, Pearson r=0.499\n",
      "Epoch [5/150]: Train Loss=0.7388, Val Loss=0.7693, Val MAE=5.462, Val R^2=0.237, Val Pearson Coefficient=0.499\n",
      "Prior best: 0.7704322009251036\n",
      "Current best: 0.7692733211763974\n",
      "Best model saved to: saved_models/best_bmi_prediction_model.pth\n"
     ]
    },
    {
     "name": "stderr",
     "output_type": "stream",
     "text": [
      "                                                            \r"
     ]
    },
    {
     "name": "stdout",
     "output_type": "stream",
     "text": [
      "Evaluation: MAE=5.35, R²=0.231, Pearson r=0.524\n",
      "Epoch [6/150]: Train Loss=0.6993, Val Loss=0.7908, Val MAE=5.350, Val R^2=0.231, Val Pearson Coefficient=0.524\n"
     ]
    },
    {
     "name": "stderr",
     "output_type": "stream",
     "text": [
      "                                                            \r"
     ]
    },
    {
     "name": "stdout",
     "output_type": "stream",
     "text": [
      "Evaluation: MAE=5.37, R²=0.290, Pearson r=0.555\n",
      "Epoch [7/150]: Train Loss=0.6805, Val Loss=0.7251, Val MAE=5.372, Val R^2=0.290, Val Pearson Coefficient=0.555\n",
      "Prior best: 0.7692733211763974\n",
      "Current best: 0.7251461785415123\n",
      "Best model saved to: saved_models/best_bmi_prediction_model.pth\n"
     ]
    },
    {
     "name": "stderr",
     "output_type": "stream",
     "text": [
      "                                                            \r"
     ]
    },
    {
     "name": "stdout",
     "output_type": "stream",
     "text": [
      "Evaluation: MAE=5.05, R²=0.331, Pearson r=0.588\n",
      "Epoch [8/150]: Train Loss=0.6625, Val Loss=0.6792, Val MAE=5.050, Val R^2=0.331, Val Pearson Coefficient=0.588\n",
      "Prior best: 0.7251461785415123\n",
      "Current best: 0.6791917517267424\n",
      "Best model saved to: saved_models/best_bmi_prediction_model.pth\n"
     ]
    },
    {
     "name": "stderr",
     "output_type": "stream",
     "text": [
      "                                                            \r"
     ]
    },
    {
     "name": "stdout",
     "output_type": "stream",
     "text": [
      "Evaluation: MAE=4.87, R²=0.371, Pearson r=0.615\n",
      "Epoch [9/150]: Train Loss=0.6396, Val Loss=0.6254, Val MAE=4.870, Val R^2=0.371, Val Pearson Coefficient=0.615\n",
      "Prior best: 0.6791917517267424\n",
      "Current best: 0.6253500950747523\n",
      "Best model saved to: saved_models/best_bmi_prediction_model.pth\n"
     ]
    },
    {
     "name": "stderr",
     "output_type": "stream",
     "text": [
      "                                                            \r"
     ]
    },
    {
     "name": "stdout",
     "output_type": "stream",
     "text": [
      "Evaluation: MAE=6.63, R²=-0.136, Pearson r=0.613\n",
      "Epoch [10/150]: Train Loss=0.6271, Val Loss=1.1421, Val MAE=6.631, Val R^2=-0.136, Val Pearson Coefficient=0.613\n"
     ]
    },
    {
     "name": "stderr",
     "output_type": "stream",
     "text": [
      "                                                            \r"
     ]
    },
    {
     "name": "stdout",
     "output_type": "stream",
     "text": [
      "Evaluation: MAE=4.78, R²=0.364, Pearson r=0.626\n",
      "Epoch [11/150]: Train Loss=0.6182, Val Loss=0.6394, Val MAE=4.779, Val R^2=0.364, Val Pearson Coefficient=0.626\n"
     ]
    },
    {
     "name": "stderr",
     "output_type": "stream",
     "text": [
      "                                                            \r"
     ]
    },
    {
     "name": "stdout",
     "output_type": "stream",
     "text": [
      "Evaluation: MAE=4.85, R²=0.385, Pearson r=0.625\n",
      "Epoch [12/150]: Train Loss=0.6140, Val Loss=0.6196, Val MAE=4.854, Val R^2=0.385, Val Pearson Coefficient=0.625\n",
      "Prior best: 0.6253500950747523\n",
      "Current best: 0.6195562923776692\n",
      "Best model saved to: saved_models/best_bmi_prediction_model.pth\n"
     ]
    },
    {
     "name": "stderr",
     "output_type": "stream",
     "text": [
      "                                                            \r"
     ]
    },
    {
     "name": "stdout",
     "output_type": "stream",
     "text": [
      "Evaluation: MAE=4.69, R²=0.401, Pearson r=0.636\n",
      "Epoch [13/150]: Train Loss=0.5771, Val Loss=0.5966, Val MAE=4.693, Val R^2=0.401, Val Pearson Coefficient=0.636\n",
      "Prior best: 0.6195562923776692\n",
      "Current best: 0.5965532300801113\n",
      "Best model saved to: saved_models/best_bmi_prediction_model.pth\n"
     ]
    },
    {
     "name": "stderr",
     "output_type": "stream",
     "text": [
      "                                                            \r"
     ]
    },
    {
     "name": "stdout",
     "output_type": "stream",
     "text": [
      "Evaluation: MAE=5.25, R²=0.350, Pearson r=0.642\n",
      "Epoch [14/150]: Train Loss=0.6021, Val Loss=0.6691, Val MAE=5.248, Val R^2=0.350, Val Pearson Coefficient=0.642\n"
     ]
    },
    {
     "name": "stderr",
     "output_type": "stream",
     "text": [
      "                                                            \r"
     ]
    },
    {
     "name": "stdout",
     "output_type": "stream",
     "text": [
      "Evaluation: MAE=4.72, R²=0.418, Pearson r=0.649\n",
      "Epoch [15/150]: Train Loss=0.5989, Val Loss=0.5943, Val MAE=4.724, Val R^2=0.418, Val Pearson Coefficient=0.649\n",
      "Prior best: 0.5965532300801113\n",
      "Current best: 0.5943373246439572\n",
      "Best model saved to: saved_models/best_bmi_prediction_model.pth\n"
     ]
    },
    {
     "name": "stderr",
     "output_type": "stream",
     "text": [
      "                                                            \r"
     ]
    },
    {
     "name": "stdout",
     "output_type": "stream",
     "text": [
      "Evaluation: MAE=4.97, R²=0.392, Pearson r=0.645\n",
      "Epoch [16/150]: Train Loss=0.5838, Val Loss=0.6086, Val MAE=4.973, Val R^2=0.392, Val Pearson Coefficient=0.645\n"
     ]
    },
    {
     "name": "stderr",
     "output_type": "stream",
     "text": [
      "                                                            \r"
     ]
    },
    {
     "name": "stdout",
     "output_type": "stream",
     "text": [
      "Evaluation: MAE=4.69, R²=0.382, Pearson r=0.647\n",
      "Epoch [17/150]: Train Loss=0.5774, Val Loss=0.6268, Val MAE=4.685, Val R^2=0.382, Val Pearson Coefficient=0.647\n"
     ]
    },
    {
     "name": "stderr",
     "output_type": "stream",
     "text": [
      "                                                            \r"
     ]
    },
    {
     "name": "stdout",
     "output_type": "stream",
     "text": [
      "Evaluation: MAE=4.99, R²=0.294, Pearson r=0.640\n",
      "Epoch [18/150]: Train Loss=0.5823, Val Loss=0.7198, Val MAE=4.991, Val R^2=0.294, Val Pearson Coefficient=0.640\n"
     ]
    },
    {
     "name": "stderr",
     "output_type": "stream",
     "text": [
      "                                                            \r"
     ]
    },
    {
     "name": "stdout",
     "output_type": "stream",
     "text": [
      "Evaluation: MAE=5.62, R²=0.120, Pearson r=0.642\n",
      "Epoch [19/150]: Train Loss=0.5868, Val Loss=0.8884, Val MAE=5.618, Val R^2=0.120, Val Pearson Coefficient=0.642\n"
     ]
    },
    {
     "name": "stderr",
     "output_type": "stream",
     "text": [
      "                                                            \r"
     ]
    },
    {
     "name": "stdout",
     "output_type": "stream",
     "text": [
      "Evaluation: MAE=4.66, R²=0.411, Pearson r=0.647\n",
      "Epoch [20/150]: Train Loss=0.5790, Val Loss=0.5866, Val MAE=4.663, Val R^2=0.411, Val Pearson Coefficient=0.647\n",
      "Prior best: 0.5943373246439572\n",
      "Current best: 0.5866291656576353\n",
      "Best model saved to: saved_models/best_bmi_prediction_model.pth\n"
     ]
    },
    {
     "name": "stderr",
     "output_type": "stream",
     "text": [
      "                                                            \r"
     ]
    },
    {
     "name": "stdout",
     "output_type": "stream",
     "text": [
      "Evaluation: MAE=7.67, R²=-0.181, Pearson r=0.639\n",
      "Epoch [21/150]: Train Loss=0.5482, Val Loss=1.2063, Val MAE=7.665, Val R^2=-0.181, Val Pearson Coefficient=0.639\n"
     ]
    },
    {
     "name": "stderr",
     "output_type": "stream",
     "text": [
      "                                                            \r"
     ]
    },
    {
     "name": "stdout",
     "output_type": "stream",
     "text": [
      "Evaluation: MAE=4.98, R²=0.284, Pearson r=0.652\n",
      "Epoch [22/150]: Train Loss=0.5684, Val Loss=0.7317, Val MAE=4.984, Val R^2=0.284, Val Pearson Coefficient=0.652\n"
     ]
    },
    {
     "name": "stderr",
     "output_type": "stream",
     "text": [
      "                                                            \r"
     ]
    },
    {
     "name": "stdout",
     "output_type": "stream",
     "text": [
      "Evaluation: MAE=6.03, R²=0.194, Pearson r=0.648\n",
      "Epoch [23/150]: Train Loss=0.5731, Val Loss=0.8106, Val MAE=6.034, Val R^2=0.194, Val Pearson Coefficient=0.648\n"
     ]
    },
    {
     "name": "stderr",
     "output_type": "stream",
     "text": [
      "                                                            \r"
     ]
    },
    {
     "name": "stdout",
     "output_type": "stream",
     "text": [
      "Evaluation: MAE=4.78, R²=0.406, Pearson r=0.640\n",
      "Epoch [24/150]: Train Loss=0.5680, Val Loss=0.5962, Val MAE=4.777, Val R^2=0.406, Val Pearson Coefficient=0.640\n"
     ]
    },
    {
     "name": "stderr",
     "output_type": "stream",
     "text": [
      "                                                            \r"
     ]
    },
    {
     "name": "stdout",
     "output_type": "stream",
     "text": [
      "Evaluation: MAE=4.83, R²=0.416, Pearson r=0.654\n",
      "Epoch [25/150]: Train Loss=0.5720, Val Loss=0.5807, Val MAE=4.834, Val R^2=0.416, Val Pearson Coefficient=0.654\n",
      "Prior best: 0.5866291656576353\n",
      "Current best: 0.5807160812205282\n",
      "Best model saved to: saved_models/best_bmi_prediction_model.pth\n"
     ]
    },
    {
     "name": "stderr",
     "output_type": "stream",
     "text": [
      "                                                            \r"
     ]
    },
    {
     "name": "stdout",
     "output_type": "stream",
     "text": [
      "Evaluation: MAE=5.05, R²=0.389, Pearson r=0.652\n",
      "Epoch [26/150]: Train Loss=0.5710, Val Loss=0.6157, Val MAE=5.052, Val R^2=0.389, Val Pearson Coefficient=0.652\n"
     ]
    },
    {
     "name": "stderr",
     "output_type": "stream",
     "text": [
      "                                                            \r"
     ]
    },
    {
     "name": "stdout",
     "output_type": "stream",
     "text": [
      "Evaluation: MAE=5.86, R²=0.250, Pearson r=0.647\n",
      "Epoch [27/150]: Train Loss=0.5417, Val Loss=0.7457, Val MAE=5.863, Val R^2=0.250, Val Pearson Coefficient=0.647\n"
     ]
    },
    {
     "name": "stderr",
     "output_type": "stream",
     "text": [
      "                                                            \r"
     ]
    },
    {
     "name": "stdout",
     "output_type": "stream",
     "text": [
      "Evaluation: MAE=5.26, R²=0.348, Pearson r=0.650\n",
      "Epoch [28/150]: Train Loss=0.5734, Val Loss=0.6498, Val MAE=5.264, Val R^2=0.348, Val Pearson Coefficient=0.650\n"
     ]
    },
    {
     "name": "stderr",
     "output_type": "stream",
     "text": [
      "                                                            \r"
     ]
    },
    {
     "name": "stdout",
     "output_type": "stream",
     "text": [
      "Evaluation: MAE=4.90, R²=0.307, Pearson r=0.650\n",
      "Epoch [29/150]: Train Loss=0.5688, Val Loss=0.7199, Val MAE=4.904, Val R^2=0.307, Val Pearson Coefficient=0.650\n"
     ]
    },
    {
     "name": "stderr",
     "output_type": "stream",
     "text": [
      "                                                            \r"
     ]
    },
    {
     "name": "stdout",
     "output_type": "stream",
     "text": [
      "Evaluation: MAE=5.81, R²=0.046, Pearson r=0.639\n",
      "Epoch [30/150]: Train Loss=0.5490, Val Loss=1.0024, Val MAE=5.811, Val R^2=0.046, Val Pearson Coefficient=0.639\n"
     ]
    },
    {
     "name": "stderr",
     "output_type": "stream",
     "text": [
      "                                                            \r"
     ]
    },
    {
     "name": "stdout",
     "output_type": "stream",
     "text": [
      "Evaluation: MAE=5.96, R²=0.217, Pearson r=0.649\n",
      "Epoch [31/150]: Train Loss=0.5494, Val Loss=0.7819, Val MAE=5.965, Val R^2=0.217, Val Pearson Coefficient=0.649\n"
     ]
    },
    {
     "name": "stderr",
     "output_type": "stream",
     "text": [
      "                                                            \r"
     ]
    },
    {
     "name": "stdout",
     "output_type": "stream",
     "text": [
      "Evaluation: MAE=4.83, R²=0.401, Pearson r=0.645\n",
      "Epoch [32/150]: Train Loss=0.5471, Val Loss=0.6035, Val MAE=4.830, Val R^2=0.401, Val Pearson Coefficient=0.645\n"
     ]
    },
    {
     "name": "stderr",
     "output_type": "stream",
     "text": [
      "                                                            \r"
     ]
    },
    {
     "name": "stdout",
     "output_type": "stream",
     "text": [
      "Evaluation: MAE=4.93, R²=0.409, Pearson r=0.658\n",
      "Epoch [33/150]: Train Loss=0.5597, Val Loss=0.5938, Val MAE=4.929, Val R^2=0.409, Val Pearson Coefficient=0.658\n"
     ]
    },
    {
     "name": "stderr",
     "output_type": "stream",
     "text": [
      "                                                            \r"
     ]
    },
    {
     "name": "stdout",
     "output_type": "stream",
     "text": [
      "Evaluation: MAE=4.73, R²=0.359, Pearson r=0.649\n",
      "Epoch [34/150]: Train Loss=0.5433, Val Loss=0.6803, Val MAE=4.727, Val R^2=0.359, Val Pearson Coefficient=0.649\n"
     ]
    },
    {
     "name": "stderr",
     "output_type": "stream",
     "text": [
      "                                                            \r"
     ]
    },
    {
     "name": "stdout",
     "output_type": "stream",
     "text": [
      "Evaluation: MAE=4.91, R²=0.411, Pearson r=0.658\n",
      "Epoch [35/150]: Train Loss=0.5582, Val Loss=0.5956, Val MAE=4.912, Val R^2=0.411, Val Pearson Coefficient=0.658\n"
     ]
    },
    {
     "name": "stderr",
     "output_type": "stream",
     "text": [
      "                                                            \r"
     ]
    },
    {
     "name": "stdout",
     "output_type": "stream",
     "text": [
      "Evaluation: MAE=5.31, R²=0.345, Pearson r=0.655\n",
      "Epoch [36/150]: Train Loss=0.5508, Val Loss=0.6890, Val MAE=5.310, Val R^2=0.345, Val Pearson Coefficient=0.655\n"
     ]
    },
    {
     "name": "stderr",
     "output_type": "stream",
     "text": [
      "                                                            \r"
     ]
    },
    {
     "name": "stdout",
     "output_type": "stream",
     "text": [
      "Evaluation: MAE=5.30, R²=0.347, Pearson r=0.654\n",
      "Epoch [37/150]: Train Loss=0.5587, Val Loss=0.6687, Val MAE=5.303, Val R^2=0.347, Val Pearson Coefficient=0.654\n"
     ]
    },
    {
     "name": "stderr",
     "output_type": "stream",
     "text": [
      "                                                            \r"
     ]
    },
    {
     "name": "stdout",
     "output_type": "stream",
     "text": [
      "Evaluation: MAE=5.80, R²=0.062, Pearson r=0.626\n",
      "Epoch [38/150]: Train Loss=0.5461, Val Loss=0.9523, Val MAE=5.801, Val R^2=0.062, Val Pearson Coefficient=0.626\n"
     ]
    },
    {
     "name": "stderr",
     "output_type": "stream",
     "text": [
      "                                                            \r"
     ]
    },
    {
     "name": "stdout",
     "output_type": "stream",
     "text": [
      "Evaluation: MAE=6.04, R²=0.007, Pearson r=0.639\n",
      "Epoch [39/150]: Train Loss=0.5486, Val Loss=1.0225, Val MAE=6.043, Val R^2=0.007, Val Pearson Coefficient=0.639\n"
     ]
    },
    {
     "name": "stderr",
     "output_type": "stream",
     "text": [
      "                                                            \r"
     ]
    },
    {
     "name": "stdout",
     "output_type": "stream",
     "text": [
      "Evaluation: MAE=5.11, R²=0.378, Pearson r=0.648\n",
      "Epoch [40/150]: Train Loss=0.5438, Val Loss=0.6268, Val MAE=5.107, Val R^2=0.378, Val Pearson Coefficient=0.648\n"
     ]
    },
    {
     "name": "stderr",
     "output_type": "stream",
     "text": [
      "                                                            \r"
     ]
    },
    {
     "name": "stdout",
     "output_type": "stream",
     "text": [
      "Evaluation: MAE=4.58, R²=0.415, Pearson r=0.652\n",
      "Epoch [41/150]: Train Loss=0.5477, Val Loss=0.5885, Val MAE=4.581, Val R^2=0.415, Val Pearson Coefficient=0.652\n"
     ]
    },
    {
     "name": "stderr",
     "output_type": "stream",
     "text": [
      "                                                            \r"
     ]
    },
    {
     "name": "stdout",
     "output_type": "stream",
     "text": [
      "Evaluation: MAE=5.65, R²=0.098, Pearson r=0.639\n",
      "Epoch [42/150]: Train Loss=0.5284, Val Loss=0.9433, Val MAE=5.653, Val R^2=0.098, Val Pearson Coefficient=0.639\n"
     ]
    },
    {
     "name": "stderr",
     "output_type": "stream",
     "text": [
      "                                                            \r"
     ]
    },
    {
     "name": "stdout",
     "output_type": "stream",
     "text": [
      "Evaluation: MAE=4.91, R²=0.309, Pearson r=0.628\n",
      "Epoch [43/150]: Train Loss=0.5335, Val Loss=0.6938, Val MAE=4.914, Val R^2=0.309, Val Pearson Coefficient=0.628\n"
     ]
    },
    {
     "name": "stderr",
     "output_type": "stream",
     "text": [
      "                                                            \r"
     ]
    },
    {
     "name": "stdout",
     "output_type": "stream",
     "text": [
      "Evaluation: MAE=4.69, R²=0.406, Pearson r=0.638\n",
      "Epoch [44/150]: Train Loss=0.5463, Val Loss=0.6018, Val MAE=4.691, Val R^2=0.406, Val Pearson Coefficient=0.638\n"
     ]
    },
    {
     "name": "stderr",
     "output_type": "stream",
     "text": [
      "                                                            \r"
     ]
    },
    {
     "name": "stdout",
     "output_type": "stream",
     "text": [
      "Evaluation: MAE=4.61, R²=0.398, Pearson r=0.646\n",
      "Epoch [45/150]: Train Loss=0.5284, Val Loss=0.6021, Val MAE=4.612, Val R^2=0.398, Val Pearson Coefficient=0.646\n"
     ]
    },
    {
     "name": "stderr",
     "output_type": "stream",
     "text": [
      "                                                            \r"
     ]
    },
    {
     "name": "stdout",
     "output_type": "stream",
     "text": [
      "Evaluation: MAE=5.11, R²=0.373, Pearson r=0.651\n",
      "Epoch [46/150]: Train Loss=0.5388, Val Loss=0.6224, Val MAE=5.113, Val R^2=0.373, Val Pearson Coefficient=0.651\n"
     ]
    },
    {
     "name": "stderr",
     "output_type": "stream",
     "text": [
      "                                                            \r"
     ]
    },
    {
     "name": "stdout",
     "output_type": "stream",
     "text": [
      "Evaluation: MAE=5.18, R²=0.223, Pearson r=0.627\n",
      "Epoch [47/150]: Train Loss=0.5513, Val Loss=0.7817, Val MAE=5.179, Val R^2=0.223, Val Pearson Coefficient=0.627\n"
     ]
    },
    {
     "name": "stderr",
     "output_type": "stream",
     "text": [
      "                                                            \r"
     ]
    },
    {
     "name": "stdout",
     "output_type": "stream",
     "text": [
      "Evaluation: MAE=5.30, R²=0.341, Pearson r=0.649\n",
      "Epoch [48/150]: Train Loss=0.5379, Val Loss=0.6630, Val MAE=5.297, Val R^2=0.341, Val Pearson Coefficient=0.649\n"
     ]
    },
    {
     "name": "stderr",
     "output_type": "stream",
     "text": [
      "                                                            \r"
     ]
    },
    {
     "name": "stdout",
     "output_type": "stream",
     "text": [
      "Evaluation: MAE=4.65, R²=0.418, Pearson r=0.646\n",
      "Epoch [49/150]: Train Loss=0.5437, Val Loss=0.5893, Val MAE=4.649, Val R^2=0.418, Val Pearson Coefficient=0.646\n"
     ]
    },
    {
     "name": "stderr",
     "output_type": "stream",
     "text": [
      "                                                            \r"
     ]
    },
    {
     "name": "stdout",
     "output_type": "stream",
     "text": [
      "Evaluation: MAE=7.32, R²=-0.118, Pearson r=0.643\n",
      "Epoch [50/150]: Train Loss=0.5195, Val Loss=1.1142, Val MAE=7.319, Val R^2=-0.118, Val Pearson Coefficient=0.643\n"
     ]
    },
    {
     "name": "stderr",
     "output_type": "stream",
     "text": [
      "                                                            \r"
     ]
    },
    {
     "name": "stdout",
     "output_type": "stream",
     "text": [
      "Evaluation: MAE=4.91, R²=0.305, Pearson r=0.644\n",
      "Epoch [51/150]: Train Loss=0.5466, Val Loss=0.7416, Val MAE=4.910, Val R^2=0.305, Val Pearson Coefficient=0.644\n"
     ]
    },
    {
     "name": "stderr",
     "output_type": "stream",
     "text": [
      "                                                            \r"
     ]
    },
    {
     "name": "stdout",
     "output_type": "stream",
     "text": [
      "Evaluation: MAE=4.76, R²=0.416, Pearson r=0.649\n",
      "Epoch [52/150]: Train Loss=0.5185, Val Loss=0.5869, Val MAE=4.759, Val R^2=0.416, Val Pearson Coefficient=0.649\n"
     ]
    },
    {
     "name": "stderr",
     "output_type": "stream",
     "text": [
      "                                                            \r"
     ]
    },
    {
     "name": "stdout",
     "output_type": "stream",
     "text": [
      "Evaluation: MAE=4.59, R²=0.408, Pearson r=0.646\n",
      "Epoch [53/150]: Train Loss=0.5289, Val Loss=0.5942, Val MAE=4.589, Val R^2=0.408, Val Pearson Coefficient=0.646\n"
     ]
    },
    {
     "name": "stderr",
     "output_type": "stream",
     "text": [
      "                                                            \r"
     ]
    },
    {
     "name": "stdout",
     "output_type": "stream",
     "text": [
      "Evaluation: MAE=4.73, R²=0.416, Pearson r=0.648\n",
      "Epoch [54/150]: Train Loss=0.5263, Val Loss=0.5809, Val MAE=4.735, Val R^2=0.416, Val Pearson Coefficient=0.648\n"
     ]
    },
    {
     "name": "stderr",
     "output_type": "stream",
     "text": [
      "                                                            \r"
     ]
    },
    {
     "name": "stdout",
     "output_type": "stream",
     "text": [
      "Evaluation: MAE=4.63, R²=0.387, Pearson r=0.648\n",
      "Epoch [55/150]: Train Loss=0.5367, Val Loss=0.6149, Val MAE=4.635, Val R^2=0.387, Val Pearson Coefficient=0.648\n"
     ]
    },
    {
     "name": "stderr",
     "output_type": "stream",
     "text": [
      "                                                            \r"
     ]
    },
    {
     "name": "stdout",
     "output_type": "stream",
     "text": [
      "Evaluation: MAE=4.67, R²=0.423, Pearson r=0.655\n",
      "Epoch [56/150]: Train Loss=0.5270, Val Loss=0.5728, Val MAE=4.667, Val R^2=0.423, Val Pearson Coefficient=0.655\n",
      "Prior best: 0.5807160812205282\n",
      "Current best: 0.5727901993126705\n",
      "Best model saved to: saved_models/best_bmi_prediction_model.pth\n"
     ]
    },
    {
     "name": "stderr",
     "output_type": "stream",
     "text": [
      "                                                            \r"
     ]
    },
    {
     "name": "stdout",
     "output_type": "stream",
     "text": [
      "Evaluation: MAE=4.84, R²=0.393, Pearson r=0.643\n",
      "Epoch [57/150]: Train Loss=0.5300, Val Loss=0.6192, Val MAE=4.836, Val R^2=0.393, Val Pearson Coefficient=0.643\n"
     ]
    },
    {
     "name": "stderr",
     "output_type": "stream",
     "text": [
      "                                                            \r"
     ]
    },
    {
     "name": "stdout",
     "output_type": "stream",
     "text": [
      "Evaluation: MAE=4.82, R²=0.409, Pearson r=0.647\n",
      "Epoch [58/150]: Train Loss=0.5231, Val Loss=0.5959, Val MAE=4.820, Val R^2=0.409, Val Pearson Coefficient=0.647\n"
     ]
    },
    {
     "name": "stderr",
     "output_type": "stream",
     "text": [
      "                                                            \r"
     ]
    },
    {
     "name": "stdout",
     "output_type": "stream",
     "text": [
      "Evaluation: MAE=4.69, R²=0.366, Pearson r=0.642\n",
      "Epoch [59/150]: Train Loss=0.5164, Val Loss=0.6295, Val MAE=4.692, Val R^2=0.366, Val Pearson Coefficient=0.642\n"
     ]
    },
    {
     "name": "stderr",
     "output_type": "stream",
     "text": [
      "                                                            \r"
     ]
    },
    {
     "name": "stdout",
     "output_type": "stream",
     "text": [
      "Evaluation: MAE=4.86, R²=0.396, Pearson r=0.641\n",
      "Epoch [60/150]: Train Loss=0.5185, Val Loss=0.6060, Val MAE=4.861, Val R^2=0.396, Val Pearson Coefficient=0.641\n"
     ]
    },
    {
     "name": "stderr",
     "output_type": "stream",
     "text": [
      "                                                            \r"
     ]
    },
    {
     "name": "stdout",
     "output_type": "stream",
     "text": [
      "Evaluation: MAE=5.22, R²=0.216, Pearson r=0.643\n",
      "Epoch [61/150]: Train Loss=0.5350, Val Loss=0.7761, Val MAE=5.222, Val R^2=0.216, Val Pearson Coefficient=0.643\n"
     ]
    },
    {
     "name": "stderr",
     "output_type": "stream",
     "text": [
      "                                                            \r"
     ]
    },
    {
     "name": "stdout",
     "output_type": "stream",
     "text": [
      "Evaluation: MAE=4.69, R²=0.418, Pearson r=0.662\n",
      "Epoch [62/150]: Train Loss=0.5117, Val Loss=0.5797, Val MAE=4.695, Val R^2=0.418, Val Pearson Coefficient=0.662\n"
     ]
    },
    {
     "name": "stderr",
     "output_type": "stream",
     "text": [
      "                                                            \r"
     ]
    },
    {
     "name": "stdout",
     "output_type": "stream",
     "text": [
      "Evaluation: MAE=5.04, R²=0.383, Pearson r=0.657\n",
      "Epoch [63/150]: Train Loss=0.5520, Val Loss=0.6276, Val MAE=5.042, Val R^2=0.383, Val Pearson Coefficient=0.657\n"
     ]
    },
    {
     "name": "stderr",
     "output_type": "stream",
     "text": [
      "                                                            \r"
     ]
    },
    {
     "name": "stdout",
     "output_type": "stream",
     "text": [
      "Evaluation: MAE=4.93, R²=0.392, Pearson r=0.645\n",
      "Epoch [64/150]: Train Loss=0.5177, Val Loss=0.6307, Val MAE=4.929, Val R^2=0.392, Val Pearson Coefficient=0.645\n"
     ]
    },
    {
     "name": "stderr",
     "output_type": "stream",
     "text": [
      "                                                            \r"
     ]
    },
    {
     "name": "stdout",
     "output_type": "stream",
     "text": [
      "Evaluation: MAE=4.70, R²=0.394, Pearson r=0.638\n",
      "Epoch [65/150]: Train Loss=0.5163, Val Loss=0.6104, Val MAE=4.703, Val R^2=0.394, Val Pearson Coefficient=0.638\n"
     ]
    },
    {
     "name": "stderr",
     "output_type": "stream",
     "text": [
      "                                                            \r"
     ]
    },
    {
     "name": "stdout",
     "output_type": "stream",
     "text": [
      "Evaluation: MAE=4.66, R²=0.385, Pearson r=0.645\n",
      "Epoch [66/150]: Train Loss=0.5277, Val Loss=0.6110, Val MAE=4.661, Val R^2=0.385, Val Pearson Coefficient=0.645\n"
     ]
    },
    {
     "name": "stderr",
     "output_type": "stream",
     "text": [
      "                                                            \r"
     ]
    },
    {
     "name": "stdout",
     "output_type": "stream",
     "text": [
      "Evaluation: MAE=5.55, R²=0.264, Pearson r=0.650\n",
      "Epoch [67/150]: Train Loss=0.5182, Val Loss=0.7716, Val MAE=5.547, Val R^2=0.264, Val Pearson Coefficient=0.650\n"
     ]
    },
    {
     "name": "stderr",
     "output_type": "stream",
     "text": [
      "                                                            \r"
     ]
    },
    {
     "name": "stdout",
     "output_type": "stream",
     "text": [
      "Evaluation: MAE=4.82, R²=0.365, Pearson r=0.633\n",
      "Epoch [68/150]: Train Loss=0.5146, Val Loss=0.6469, Val MAE=4.817, Val R^2=0.365, Val Pearson Coefficient=0.633\n"
     ]
    },
    {
     "name": "stderr",
     "output_type": "stream",
     "text": [
      "                                                            \r"
     ]
    },
    {
     "name": "stdout",
     "output_type": "stream",
     "text": [
      "Evaluation: MAE=4.69, R²=0.399, Pearson r=0.642\n",
      "Epoch [69/150]: Train Loss=0.5105, Val Loss=0.6044, Val MAE=4.689, Val R^2=0.399, Val Pearson Coefficient=0.642\n"
     ]
    },
    {
     "name": "stderr",
     "output_type": "stream",
     "text": [
      "                                                            \r"
     ]
    },
    {
     "name": "stdout",
     "output_type": "stream",
     "text": [
      "Evaluation: MAE=5.70, R²=0.084, Pearson r=0.616\n",
      "Epoch [70/150]: Train Loss=0.5286, Val Loss=0.9131, Val MAE=5.698, Val R^2=0.084, Val Pearson Coefficient=0.616\n"
     ]
    },
    {
     "name": "stderr",
     "output_type": "stream",
     "text": [
      "                                                           \r"
     ]
    },
    {
     "name": "stdout",
     "output_type": "stream",
     "text": [
      "Evaluation: MAE=4.91, R²=0.301, Pearson r=0.625\n",
      "Epoch [71/150]: Train Loss=0.5188, Val Loss=0.6922, Val MAE=4.908, Val R^2=0.301, Val Pearson Coefficient=0.625\n"
     ]
    },
    {
     "name": "stderr",
     "output_type": "stream",
     "text": [
      "                                                            \r"
     ]
    },
    {
     "name": "stdout",
     "output_type": "stream",
     "text": [
      "Evaluation: MAE=4.74, R²=0.411, Pearson r=0.642\n",
      "Epoch [72/150]: Train Loss=0.5175, Val Loss=0.5822, Val MAE=4.735, Val R^2=0.411, Val Pearson Coefficient=0.642\n"
     ]
    },
    {
     "name": "stderr",
     "output_type": "stream",
     "text": [
      "                                                           \r"
     ]
    },
    {
     "name": "stdout",
     "output_type": "stream",
     "text": [
      "Evaluation: MAE=6.65, R²=0.030, Pearson r=0.640\n",
      "Epoch [73/150]: Train Loss=0.5094, Val Loss=0.9968, Val MAE=6.650, Val R^2=0.030, Val Pearson Coefficient=0.640\n"
     ]
    },
    {
     "name": "stderr",
     "output_type": "stream",
     "text": [
      "                                                            \r"
     ]
    },
    {
     "name": "stdout",
     "output_type": "stream",
     "text": [
      "Evaluation: MAE=5.95, R²=0.196, Pearson r=0.636\n",
      "Epoch [74/150]: Train Loss=0.5208, Val Loss=0.7982, Val MAE=5.949, Val R^2=0.196, Val Pearson Coefficient=0.636\n"
     ]
    },
    {
     "name": "stderr",
     "output_type": "stream",
     "text": [
      "                                                            \r"
     ]
    },
    {
     "name": "stdout",
     "output_type": "stream",
     "text": [
      "Evaluation: MAE=4.79, R²=0.404, Pearson r=0.638\n",
      "Epoch [75/150]: Train Loss=0.5213, Val Loss=0.6081, Val MAE=4.795, Val R^2=0.404, Val Pearson Coefficient=0.638\n"
     ]
    },
    {
     "name": "stderr",
     "output_type": "stream",
     "text": [
      "                                                            \r"
     ]
    },
    {
     "name": "stdout",
     "output_type": "stream",
     "text": [
      "Evaluation: MAE=4.97, R²=0.297, Pearson r=0.617\n",
      "Epoch [76/150]: Train Loss=0.5051, Val Loss=0.7051, Val MAE=4.966, Val R^2=0.297, Val Pearson Coefficient=0.617\n"
     ]
    },
    {
     "name": "stderr",
     "output_type": "stream",
     "text": [
      "                                                            \r"
     ]
    },
    {
     "name": "stdout",
     "output_type": "stream",
     "text": [
      "Evaluation: MAE=6.20, R²=0.161, Pearson r=0.625\n",
      "Epoch [77/150]: Train Loss=0.5262, Val Loss=0.8345, Val MAE=6.205, Val R^2=0.161, Val Pearson Coefficient=0.625\n"
     ]
    },
    {
     "name": "stderr",
     "output_type": "stream",
     "text": [
      "                                                            \r"
     ]
    },
    {
     "name": "stdout",
     "output_type": "stream",
     "text": [
      "Evaluation: MAE=5.39, R²=0.313, Pearson r=0.644\n",
      "Epoch [78/150]: Train Loss=0.5126, Val Loss=0.6966, Val MAE=5.388, Val R^2=0.313, Val Pearson Coefficient=0.644\n"
     ]
    },
    {
     "name": "stderr",
     "output_type": "stream",
     "text": [
      "                                                            \r"
     ]
    },
    {
     "name": "stdout",
     "output_type": "stream",
     "text": [
      "Evaluation: MAE=5.12, R²=0.371, Pearson r=0.640\n",
      "Epoch [79/150]: Train Loss=0.5110, Val Loss=0.6409, Val MAE=5.118, Val R^2=0.371, Val Pearson Coefficient=0.640\n"
     ]
    },
    {
     "name": "stderr",
     "output_type": "stream",
     "text": [
      "                                                            \r"
     ]
    },
    {
     "name": "stdout",
     "output_type": "stream",
     "text": [
      "Evaluation: MAE=4.66, R²=0.385, Pearson r=0.641\n",
      "Epoch [80/150]: Train Loss=0.4948, Val Loss=0.6237, Val MAE=4.662, Val R^2=0.385, Val Pearson Coefficient=0.641\n"
     ]
    },
    {
     "name": "stderr",
     "output_type": "stream",
     "text": [
      "                                                            \r"
     ]
    },
    {
     "name": "stdout",
     "output_type": "stream",
     "text": [
      "Evaluation: MAE=5.26, R²=0.313, Pearson r=0.642\n",
      "Epoch [81/150]: Train Loss=0.4972, Val Loss=0.6836, Val MAE=5.256, Val R^2=0.313, Val Pearson Coefficient=0.642\n"
     ]
    },
    {
     "name": "stderr",
     "output_type": "stream",
     "text": [
      "                                                            \r"
     ]
    },
    {
     "name": "stdout",
     "output_type": "stream",
     "text": [
      "Evaluation: MAE=5.18, R²=0.239, Pearson r=0.618\n",
      "Epoch [82/150]: Train Loss=0.5138, Val Loss=0.7522, Val MAE=5.176, Val R^2=0.239, Val Pearson Coefficient=0.618\n"
     ]
    },
    {
     "name": "stderr",
     "output_type": "stream",
     "text": [
      "                                                            \r"
     ]
    },
    {
     "name": "stdout",
     "output_type": "stream",
     "text": [
      "Evaluation: MAE=4.86, R²=0.379, Pearson r=0.628\n",
      "Epoch [83/150]: Train Loss=0.5090, Val Loss=0.6415, Val MAE=4.861, Val R^2=0.379, Val Pearson Coefficient=0.628\n"
     ]
    },
    {
     "name": "stderr",
     "output_type": "stream",
     "text": [
      "                                                            \r"
     ]
    },
    {
     "name": "stdout",
     "output_type": "stream",
     "text": [
      "Evaluation: MAE=4.80, R²=0.355, Pearson r=0.623\n",
      "Epoch [84/150]: Train Loss=0.4985, Val Loss=0.7040, Val MAE=4.800, Val R^2=0.355, Val Pearson Coefficient=0.623\n"
     ]
    },
    {
     "name": "stderr",
     "output_type": "stream",
     "text": [
      "                                                            \r"
     ]
    },
    {
     "name": "stdout",
     "output_type": "stream",
     "text": [
      "Evaluation: MAE=5.21, R²=0.220, Pearson r=0.625\n",
      "Epoch [85/150]: Train Loss=0.4922, Val Loss=0.7899, Val MAE=5.215, Val R^2=0.220, Val Pearson Coefficient=0.625\n"
     ]
    },
    {
     "name": "stderr",
     "output_type": "stream",
     "text": [
      "                                                            \r"
     ]
    },
    {
     "name": "stdout",
     "output_type": "stream",
     "text": [
      "Evaluation: MAE=5.48, R²=0.135, Pearson r=0.605\n",
      "Epoch [86/150]: Train Loss=0.4988, Val Loss=0.8926, Val MAE=5.478, Val R^2=0.135, Val Pearson Coefficient=0.605\n"
     ]
    },
    {
     "name": "stderr",
     "output_type": "stream",
     "text": [
      "                                                            \r"
     ]
    },
    {
     "name": "stdout",
     "output_type": "stream",
     "text": [
      "Evaluation: MAE=5.42, R²=0.162, Pearson r=0.623\n",
      "Epoch [87/150]: Train Loss=0.5085, Val Loss=0.8382, Val MAE=5.416, Val R^2=0.162, Val Pearson Coefficient=0.623\n"
     ]
    },
    {
     "name": "stderr",
     "output_type": "stream",
     "text": [
      "                                                            \r"
     ]
    },
    {
     "name": "stdout",
     "output_type": "stream",
     "text": [
      "Evaluation: MAE=6.35, R²=0.107, Pearson r=0.631\n",
      "Epoch [88/150]: Train Loss=0.4965, Val Loss=0.9166, Val MAE=6.350, Val R^2=0.107, Val Pearson Coefficient=0.631\n"
     ]
    },
    {
     "name": "stderr",
     "output_type": "stream",
     "text": [
      "                                                            \r"
     ]
    },
    {
     "name": "stdout",
     "output_type": "stream",
     "text": [
      "Evaluation: MAE=4.85, R²=0.332, Pearson r=0.635\n",
      "Epoch [89/150]: Train Loss=0.4905, Val Loss=0.6719, Val MAE=4.845, Val R^2=0.332, Val Pearson Coefficient=0.635\n"
     ]
    },
    {
     "name": "stderr",
     "output_type": "stream",
     "text": [
      "                                                            \r"
     ]
    },
    {
     "name": "stdout",
     "output_type": "stream",
     "text": [
      "Evaluation: MAE=4.88, R²=0.392, Pearson r=0.635\n",
      "Epoch [90/150]: Train Loss=0.4974, Val Loss=0.6095, Val MAE=4.879, Val R^2=0.392, Val Pearson Coefficient=0.635\n"
     ]
    },
    {
     "name": "stderr",
     "output_type": "stream",
     "text": [
      "                                                            \r"
     ]
    },
    {
     "name": "stdout",
     "output_type": "stream",
     "text": [
      "Evaluation: MAE=4.93, R²=0.372, Pearson r=0.640\n",
      "Epoch [91/150]: Train Loss=0.4970, Val Loss=0.6371, Val MAE=4.931, Val R^2=0.372, Val Pearson Coefficient=0.640\n"
     ]
    },
    {
     "name": "stderr",
     "output_type": "stream",
     "text": [
      "                                                            \r"
     ]
    },
    {
     "name": "stdout",
     "output_type": "stream",
     "text": [
      "Evaluation: MAE=4.88, R²=0.387, Pearson r=0.628\n",
      "Epoch [92/150]: Train Loss=0.5054, Val Loss=0.6179, Val MAE=4.883, Val R^2=0.387, Val Pearson Coefficient=0.628\n"
     ]
    },
    {
     "name": "stderr",
     "output_type": "stream",
     "text": [
      "                                                            \r"
     ]
    },
    {
     "name": "stdout",
     "output_type": "stream",
     "text": [
      "Evaluation: MAE=5.44, R²=0.141, Pearson r=0.617\n",
      "Epoch [93/150]: Train Loss=0.4960, Val Loss=0.9047, Val MAE=5.445, Val R^2=0.141, Val Pearson Coefficient=0.617\n"
     ]
    },
    {
     "name": "stderr",
     "output_type": "stream",
     "text": [
      "                                                            \r"
     ]
    },
    {
     "name": "stdout",
     "output_type": "stream",
     "text": [
      "Evaluation: MAE=5.03, R²=0.355, Pearson r=0.634\n",
      "Epoch [94/150]: Train Loss=0.4933, Val Loss=0.6485, Val MAE=5.033, Val R^2=0.355, Val Pearson Coefficient=0.634\n"
     ]
    },
    {
     "name": "stderr",
     "output_type": "stream",
     "text": [
      "                                                            \r"
     ]
    },
    {
     "name": "stdout",
     "output_type": "stream",
     "text": [
      "Evaluation: MAE=4.91, R²=0.301, Pearson r=0.627\n",
      "Epoch [95/150]: Train Loss=0.4922, Val Loss=0.6964, Val MAE=4.910, Val R^2=0.301, Val Pearson Coefficient=0.627\n"
     ]
    },
    {
     "name": "stderr",
     "output_type": "stream",
     "text": [
      "                                                            \r"
     ]
    },
    {
     "name": "stdout",
     "output_type": "stream",
     "text": [
      "Evaluation: MAE=4.78, R²=0.405, Pearson r=0.639\n",
      "Epoch [96/150]: Train Loss=0.4977, Val Loss=0.5867, Val MAE=4.782, Val R^2=0.405, Val Pearson Coefficient=0.639\n"
     ]
    },
    {
     "name": "stderr",
     "output_type": "stream",
     "text": [
      "                                                            \r"
     ]
    },
    {
     "name": "stdout",
     "output_type": "stream",
     "text": [
      "Evaluation: MAE=4.71, R²=0.407, Pearson r=0.644\n",
      "Epoch [97/150]: Train Loss=0.4771, Val Loss=0.5947, Val MAE=4.709, Val R^2=0.407, Val Pearson Coefficient=0.644\n"
     ]
    },
    {
     "name": "stderr",
     "output_type": "stream",
     "text": [
      "                                                            \r"
     ]
    },
    {
     "name": "stdout",
     "output_type": "stream",
     "text": [
      "Evaluation: MAE=4.82, R²=0.329, Pearson r=0.622\n",
      "Epoch [98/150]: Train Loss=0.4946, Val Loss=0.6906, Val MAE=4.818, Val R^2=0.329, Val Pearson Coefficient=0.622\n"
     ]
    },
    {
     "name": "stderr",
     "output_type": "stream",
     "text": [
      "                                                            \r"
     ]
    },
    {
     "name": "stdout",
     "output_type": "stream",
     "text": [
      "Evaluation: MAE=5.13, R²=0.236, Pearson r=0.625\n",
      "Epoch [99/150]: Train Loss=0.4914, Val Loss=0.7918, Val MAE=5.127, Val R^2=0.236, Val Pearson Coefficient=0.625\n"
     ]
    },
    {
     "name": "stderr",
     "output_type": "stream",
     "text": [
      "                                                            \r"
     ]
    },
    {
     "name": "stdout",
     "output_type": "stream",
     "text": [
      "Evaluation: MAE=4.84, R²=0.394, Pearson r=0.635\n",
      "Epoch [100/150]: Train Loss=0.4855, Val Loss=0.6089, Val MAE=4.838, Val R^2=0.394, Val Pearson Coefficient=0.635\n"
     ]
    },
    {
     "name": "stderr",
     "output_type": "stream",
     "text": [
      "                                                            \r"
     ]
    },
    {
     "name": "stdout",
     "output_type": "stream",
     "text": [
      "Evaluation: MAE=4.71, R²=0.407, Pearson r=0.639\n",
      "Epoch [101/150]: Train Loss=0.4817, Val Loss=0.5926, Val MAE=4.707, Val R^2=0.407, Val Pearson Coefficient=0.639\n"
     ]
    },
    {
     "name": "stderr",
     "output_type": "stream",
     "text": [
      "                                                            \r"
     ]
    },
    {
     "name": "stdout",
     "output_type": "stream",
     "text": [
      "Evaluation: MAE=4.72, R²=0.382, Pearson r=0.621\n",
      "Epoch [102/150]: Train Loss=0.4793, Val Loss=0.6141, Val MAE=4.719, Val R^2=0.382, Val Pearson Coefficient=0.621\n"
     ]
    },
    {
     "name": "stderr",
     "output_type": "stream",
     "text": [
      "                                                            \r"
     ]
    },
    {
     "name": "stdout",
     "output_type": "stream",
     "text": [
      "Evaluation: MAE=5.13, R²=0.323, Pearson r=0.639\n",
      "Epoch [103/150]: Train Loss=0.4672, Val Loss=0.7025, Val MAE=5.133, Val R^2=0.323, Val Pearson Coefficient=0.639\n"
     ]
    },
    {
     "name": "stderr",
     "output_type": "stream",
     "text": [
      "                                                            \r"
     ]
    },
    {
     "name": "stdout",
     "output_type": "stream",
     "text": [
      "Evaluation: MAE=4.79, R²=0.399, Pearson r=0.635\n",
      "Epoch [104/150]: Train Loss=0.4809, Val Loss=0.6046, Val MAE=4.788, Val R^2=0.399, Val Pearson Coefficient=0.635\n"
     ]
    },
    {
     "name": "stderr",
     "output_type": "stream",
     "text": [
      "                                                            \r"
     ]
    },
    {
     "name": "stdout",
     "output_type": "stream",
     "text": [
      "Evaluation: MAE=5.21, R²=0.332, Pearson r=0.630\n",
      "Epoch [105/150]: Train Loss=0.4793, Val Loss=0.7094, Val MAE=5.210, Val R^2=0.332, Val Pearson Coefficient=0.630\n"
     ]
    },
    {
     "name": "stderr",
     "output_type": "stream",
     "text": [
      "                                                            \r"
     ]
    },
    {
     "name": "stdout",
     "output_type": "stream",
     "text": [
      "Evaluation: MAE=4.93, R²=0.375, Pearson r=0.617\n",
      "Epoch [106/150]: Train Loss=0.4926, Val Loss=0.6547, Val MAE=4.926, Val R^2=0.375, Val Pearson Coefficient=0.617\n"
     ]
    },
    {
     "name": "stderr",
     "output_type": "stream",
     "text": [
      "                                                            \r"
     ]
    },
    {
     "name": "stdout",
     "output_type": "stream",
     "text": [
      "Evaluation: MAE=4.72, R²=0.362, Pearson r=0.633\n",
      "Epoch [107/150]: Train Loss=0.4745, Val Loss=0.6499, Val MAE=4.717, Val R^2=0.362, Val Pearson Coefficient=0.633\n"
     ]
    },
    {
     "name": "stderr",
     "output_type": "stream",
     "text": [
      "                                                            \r"
     ]
    },
    {
     "name": "stdout",
     "output_type": "stream",
     "text": [
      "Evaluation: MAE=4.98, R²=0.281, Pearson r=0.635\n",
      "Epoch [108/150]: Train Loss=0.4955, Val Loss=0.7100, Val MAE=4.982, Val R^2=0.281, Val Pearson Coefficient=0.635\n"
     ]
    },
    {
     "name": "stderr",
     "output_type": "stream",
     "text": [
      "                                                            \r"
     ]
    },
    {
     "name": "stdout",
     "output_type": "stream",
     "text": [
      "Evaluation: MAE=5.28, R²=0.330, Pearson r=0.642\n",
      "Epoch [109/150]: Train Loss=0.4859, Val Loss=0.6696, Val MAE=5.275, Val R^2=0.330, Val Pearson Coefficient=0.642\n"
     ]
    },
    {
     "name": "stderr",
     "output_type": "stream",
     "text": [
      "                                                            \r"
     ]
    },
    {
     "name": "stdout",
     "output_type": "stream",
     "text": [
      "Evaluation: MAE=5.66, R²=0.245, Pearson r=0.609\n",
      "Epoch [110/150]: Train Loss=0.4718, Val Loss=0.7877, Val MAE=5.665, Val R^2=0.245, Val Pearson Coefficient=0.609\n"
     ]
    },
    {
     "name": "stderr",
     "output_type": "stream",
     "text": [
      "                                                            \r"
     ]
    },
    {
     "name": "stdout",
     "output_type": "stream",
     "text": [
      "Evaluation: MAE=4.83, R²=0.328, Pearson r=0.619\n",
      "Epoch [111/150]: Train Loss=0.4847, Val Loss=0.6975, Val MAE=4.835, Val R^2=0.328, Val Pearson Coefficient=0.619\n"
     ]
    },
    {
     "name": "stderr",
     "output_type": "stream",
     "text": [
      "                                                            \r"
     ]
    },
    {
     "name": "stdout",
     "output_type": "stream",
     "text": [
      "Evaluation: MAE=5.95, R²=0.009, Pearson r=0.596\n",
      "Epoch [112/150]: Train Loss=0.4911, Val Loss=1.0117, Val MAE=5.951, Val R^2=0.009, Val Pearson Coefficient=0.596\n"
     ]
    },
    {
     "name": "stderr",
     "output_type": "stream",
     "text": [
      "                                                            \r"
     ]
    },
    {
     "name": "stdout",
     "output_type": "stream",
     "text": [
      "Evaluation: MAE=4.82, R²=0.333, Pearson r=0.617\n",
      "Epoch [113/150]: Train Loss=0.4752, Val Loss=0.6645, Val MAE=4.821, Val R^2=0.333, Val Pearson Coefficient=0.617\n"
     ]
    },
    {
     "name": "stderr",
     "output_type": "stream",
     "text": [
      "                                                            \r"
     ]
    },
    {
     "name": "stdout",
     "output_type": "stream",
     "text": [
      "Evaluation: MAE=5.29, R²=0.311, Pearson r=0.624\n",
      "Epoch [114/150]: Train Loss=0.4726, Val Loss=0.6832, Val MAE=5.294, Val R^2=0.311, Val Pearson Coefficient=0.624\n"
     ]
    },
    {
     "name": "stderr",
     "output_type": "stream",
     "text": [
      "                                                            \r"
     ]
    },
    {
     "name": "stdout",
     "output_type": "stream",
     "text": [
      "Evaluation: MAE=6.11, R²=0.109, Pearson r=0.626\n",
      "Epoch [115/150]: Train Loss=0.4793, Val Loss=0.8964, Val MAE=6.108, Val R^2=0.109, Val Pearson Coefficient=0.626\n"
     ]
    },
    {
     "name": "stderr",
     "output_type": "stream",
     "text": [
      "                                                            \r"
     ]
    },
    {
     "name": "stdout",
     "output_type": "stream",
     "text": [
      "Evaluation: MAE=4.88, R²=0.345, Pearson r=0.628\n",
      "Epoch [116/150]: Train Loss=0.4713, Val Loss=0.6495, Val MAE=4.884, Val R^2=0.345, Val Pearson Coefficient=0.628\n"
     ]
    },
    {
     "name": "stderr",
     "output_type": "stream",
     "text": [
      "                                                            \r"
     ]
    },
    {
     "name": "stdout",
     "output_type": "stream",
     "text": [
      "Evaluation: MAE=5.12, R²=0.329, Pearson r=0.624\n",
      "Epoch [117/150]: Train Loss=0.4773, Val Loss=0.6769, Val MAE=5.117, Val R^2=0.329, Val Pearson Coefficient=0.624\n"
     ]
    },
    {
     "name": "stderr",
     "output_type": "stream",
     "text": [
      "                                                            \r"
     ]
    },
    {
     "name": "stdout",
     "output_type": "stream",
     "text": [
      "Evaluation: MAE=4.87, R²=0.322, Pearson r=0.622\n",
      "Epoch [118/150]: Train Loss=0.4830, Val Loss=0.6978, Val MAE=4.873, Val R^2=0.322, Val Pearson Coefficient=0.622\n"
     ]
    },
    {
     "name": "stderr",
     "output_type": "stream",
     "text": [
      "                                                            \r"
     ]
    },
    {
     "name": "stdout",
     "output_type": "stream",
     "text": [
      "Evaluation: MAE=4.84, R²=0.388, Pearson r=0.623\n",
      "Epoch [119/150]: Train Loss=0.4652, Val Loss=0.6096, Val MAE=4.835, Val R^2=0.388, Val Pearson Coefficient=0.623\n"
     ]
    },
    {
     "name": "stderr",
     "output_type": "stream",
     "text": [
      "                                                            \r"
     ]
    },
    {
     "name": "stdout",
     "output_type": "stream",
     "text": [
      "Evaluation: MAE=4.83, R²=0.339, Pearson r=0.607\n",
      "Epoch [120/150]: Train Loss=0.4606, Val Loss=0.6784, Val MAE=4.829, Val R^2=0.339, Val Pearson Coefficient=0.607\n"
     ]
    },
    {
     "name": "stderr",
     "output_type": "stream",
     "text": [
      "                                                            \r"
     ]
    },
    {
     "name": "stdout",
     "output_type": "stream",
     "text": [
      "Evaluation: MAE=4.83, R²=0.384, Pearson r=0.620\n",
      "Epoch [121/150]: Train Loss=0.4864, Val Loss=0.6241, Val MAE=4.832, Val R^2=0.384, Val Pearson Coefficient=0.620\n"
     ]
    },
    {
     "name": "stderr",
     "output_type": "stream",
     "text": [
      "                                                            \r"
     ]
    },
    {
     "name": "stdout",
     "output_type": "stream",
     "text": [
      "Evaluation: MAE=5.09, R²=0.252, Pearson r=0.628\n",
      "Epoch [122/150]: Train Loss=0.4752, Val Loss=0.7606, Val MAE=5.093, Val R^2=0.252, Val Pearson Coefficient=0.628\n"
     ]
    },
    {
     "name": "stderr",
     "output_type": "stream",
     "text": [
      "                                                            \r"
     ]
    },
    {
     "name": "stdout",
     "output_type": "stream",
     "text": [
      "Evaluation: MAE=4.75, R²=0.370, Pearson r=0.616\n",
      "Epoch [123/150]: Train Loss=0.4768, Val Loss=0.6230, Val MAE=4.750, Val R^2=0.370, Val Pearson Coefficient=0.616\n"
     ]
    },
    {
     "name": "stderr",
     "output_type": "stream",
     "text": [
      "                                                            \r"
     ]
    },
    {
     "name": "stdout",
     "output_type": "stream",
     "text": [
      "Evaluation: MAE=4.70, R²=0.390, Pearson r=0.630\n",
      "Epoch [124/150]: Train Loss=0.4816, Val Loss=0.6074, Val MAE=4.697, Val R^2=0.390, Val Pearson Coefficient=0.630\n"
     ]
    },
    {
     "name": "stderr",
     "output_type": "stream",
     "text": [
      "                                                            \r"
     ]
    },
    {
     "name": "stdout",
     "output_type": "stream",
     "text": [
      "Evaluation: MAE=4.75, R²=0.371, Pearson r=0.628\n",
      "Epoch [125/150]: Train Loss=0.4655, Val Loss=0.6578, Val MAE=4.749, Val R^2=0.371, Val Pearson Coefficient=0.628\n"
     ]
    },
    {
     "name": "stderr",
     "output_type": "stream",
     "text": [
      "                                                            \r"
     ]
    },
    {
     "name": "stdout",
     "output_type": "stream",
     "text": [
      "Evaluation: MAE=5.53, R²=0.123, Pearson r=0.608\n",
      "Epoch [126/150]: Train Loss=0.4752, Val Loss=0.8726, Val MAE=5.529, Val R^2=0.123, Val Pearson Coefficient=0.608\n"
     ]
    },
    {
     "name": "stderr",
     "output_type": "stream",
     "text": [
      "                                                            \r"
     ]
    },
    {
     "name": "stdout",
     "output_type": "stream",
     "text": [
      "Evaluation: MAE=5.17, R²=0.235, Pearson r=0.607\n",
      "Epoch [127/150]: Train Loss=0.4650, Val Loss=0.7752, Val MAE=5.169, Val R^2=0.235, Val Pearson Coefficient=0.607\n"
     ]
    },
    {
     "name": "stderr",
     "output_type": "stream",
     "text": [
      "                                                            \r"
     ]
    },
    {
     "name": "stdout",
     "output_type": "stream",
     "text": [
      "Evaluation: MAE=4.72, R²=0.382, Pearson r=0.626\n",
      "Epoch [128/150]: Train Loss=0.4750, Val Loss=0.6164, Val MAE=4.724, Val R^2=0.382, Val Pearson Coefficient=0.626\n"
     ]
    },
    {
     "name": "stderr",
     "output_type": "stream",
     "text": [
      "                                                            \r"
     ]
    },
    {
     "name": "stdout",
     "output_type": "stream",
     "text": [
      "Evaluation: MAE=4.79, R²=0.393, Pearson r=0.628\n",
      "Epoch [129/150]: Train Loss=0.4728, Val Loss=0.6093, Val MAE=4.794, Val R^2=0.393, Val Pearson Coefficient=0.628\n"
     ]
    },
    {
     "name": "stderr",
     "output_type": "stream",
     "text": [
      "                                                            \r"
     ]
    },
    {
     "name": "stdout",
     "output_type": "stream",
     "text": [
      "Evaluation: MAE=4.96, R²=0.363, Pearson r=0.621\n",
      "Epoch [130/150]: Train Loss=0.4758, Val Loss=0.6372, Val MAE=4.960, Val R^2=0.363, Val Pearson Coefficient=0.621\n"
     ]
    },
    {
     "name": "stderr",
     "output_type": "stream",
     "text": [
      "                                                            \r"
     ]
    },
    {
     "name": "stdout",
     "output_type": "stream",
     "text": [
      "Evaluation: MAE=4.74, R²=0.351, Pearson r=0.631\n",
      "Epoch [131/150]: Train Loss=0.4616, Val Loss=0.6616, Val MAE=4.739, Val R^2=0.351, Val Pearson Coefficient=0.631\n"
     ]
    },
    {
     "name": "stderr",
     "output_type": "stream",
     "text": [
      "                                                            \r"
     ]
    },
    {
     "name": "stdout",
     "output_type": "stream",
     "text": [
      "Evaluation: MAE=4.68, R²=0.372, Pearson r=0.630\n",
      "Epoch [132/150]: Train Loss=0.4736, Val Loss=0.6242, Val MAE=4.683, Val R^2=0.372, Val Pearson Coefficient=0.630\n"
     ]
    },
    {
     "name": "stderr",
     "output_type": "stream",
     "text": [
      "                                                            \r"
     ]
    },
    {
     "name": "stdout",
     "output_type": "stream",
     "text": [
      "Evaluation: MAE=4.77, R²=0.371, Pearson r=0.628\n",
      "Epoch [133/150]: Train Loss=0.4689, Val Loss=0.6258, Val MAE=4.767, Val R^2=0.371, Val Pearson Coefficient=0.628\n"
     ]
    },
    {
     "name": "stderr",
     "output_type": "stream",
     "text": [
      "                                                            \r"
     ]
    },
    {
     "name": "stdout",
     "output_type": "stream",
     "text": [
      "Evaluation: MAE=4.81, R²=0.333, Pearson r=0.616\n",
      "Epoch [134/150]: Train Loss=0.4701, Val Loss=0.6701, Val MAE=4.811, Val R^2=0.333, Val Pearson Coefficient=0.616\n"
     ]
    },
    {
     "name": "stderr",
     "output_type": "stream",
     "text": [
      "                                                            \r"
     ]
    },
    {
     "name": "stdout",
     "output_type": "stream",
     "text": [
      "Evaluation: MAE=4.75, R²=0.353, Pearson r=0.621\n",
      "Epoch [135/150]: Train Loss=0.4801, Val Loss=0.6403, Val MAE=4.755, Val R^2=0.353, Val Pearson Coefficient=0.621\n"
     ]
    },
    {
     "name": "stderr",
     "output_type": "stream",
     "text": [
      "                                                            \r"
     ]
    },
    {
     "name": "stdout",
     "output_type": "stream",
     "text": [
      "Evaluation: MAE=4.76, R²=0.373, Pearson r=0.635\n",
      "Epoch [136/150]: Train Loss=0.4527, Val Loss=0.6346, Val MAE=4.763, Val R^2=0.373, Val Pearson Coefficient=0.635\n"
     ]
    },
    {
     "name": "stderr",
     "output_type": "stream",
     "text": [
      "                                                            \r"
     ]
    },
    {
     "name": "stdout",
     "output_type": "stream",
     "text": [
      "Evaluation: MAE=4.85, R²=0.357, Pearson r=0.617\n",
      "Epoch [137/150]: Train Loss=0.4591, Val Loss=0.6440, Val MAE=4.851, Val R^2=0.357, Val Pearson Coefficient=0.617\n"
     ]
    },
    {
     "name": "stderr",
     "output_type": "stream",
     "text": [
      "                                                            \r"
     ]
    },
    {
     "name": "stdout",
     "output_type": "stream",
     "text": [
      "Evaluation: MAE=5.13, R²=0.245, Pearson r=0.612\n",
      "Epoch [138/150]: Train Loss=0.4681, Val Loss=0.7576, Val MAE=5.126, Val R^2=0.245, Val Pearson Coefficient=0.612\n"
     ]
    },
    {
     "name": "stderr",
     "output_type": "stream",
     "text": [
      "                                                            \r"
     ]
    },
    {
     "name": "stdout",
     "output_type": "stream",
     "text": [
      "Evaluation: MAE=5.07, R²=0.263, Pearson r=0.609\n",
      "Epoch [139/150]: Train Loss=0.4559, Val Loss=0.7345, Val MAE=5.069, Val R^2=0.263, Val Pearson Coefficient=0.609\n"
     ]
    },
    {
     "name": "stderr",
     "output_type": "stream",
     "text": [
      "                                                            \r"
     ]
    },
    {
     "name": "stdout",
     "output_type": "stream",
     "text": [
      "Evaluation: MAE=4.79, R²=0.360, Pearson r=0.613\n",
      "Epoch [140/150]: Train Loss=0.4529, Val Loss=0.7401, Val MAE=4.788, Val R^2=0.360, Val Pearson Coefficient=0.613\n"
     ]
    },
    {
     "name": "stderr",
     "output_type": "stream",
     "text": [
      "                                                            \r"
     ]
    },
    {
     "name": "stdout",
     "output_type": "stream",
     "text": [
      "Evaluation: MAE=4.87, R²=0.380, Pearson r=0.623\n",
      "Epoch [141/150]: Train Loss=0.4628, Val Loss=0.6286, Val MAE=4.866, Val R^2=0.380, Val Pearson Coefficient=0.623\n"
     ]
    },
    {
     "name": "stderr",
     "output_type": "stream",
     "text": [
      "                                                            \r"
     ]
    },
    {
     "name": "stdout",
     "output_type": "stream",
     "text": [
      "Evaluation: MAE=5.02, R²=0.337, Pearson r=0.635\n",
      "Epoch [142/150]: Train Loss=0.4548, Val Loss=0.6616, Val MAE=5.019, Val R^2=0.337, Val Pearson Coefficient=0.635\n"
     ]
    },
    {
     "name": "stderr",
     "output_type": "stream",
     "text": [
      "                                                            \r"
     ]
    },
    {
     "name": "stdout",
     "output_type": "stream",
     "text": [
      "Evaluation: MAE=5.12, R²=0.343, Pearson r=0.600\n",
      "Epoch [143/150]: Train Loss=0.4412, Val Loss=0.6839, Val MAE=5.121, Val R^2=0.343, Val Pearson Coefficient=0.600\n"
     ]
    },
    {
     "name": "stderr",
     "output_type": "stream",
     "text": [
      "                                                            \r"
     ]
    },
    {
     "name": "stdout",
     "output_type": "stream",
     "text": [
      "Evaluation: MAE=5.02, R²=0.354, Pearson r=0.623\n",
      "Epoch [144/150]: Train Loss=0.4553, Val Loss=0.6412, Val MAE=5.018, Val R^2=0.354, Val Pearson Coefficient=0.623\n"
     ]
    },
    {
     "name": "stderr",
     "output_type": "stream",
     "text": [
      "                                                            \r"
     ]
    },
    {
     "name": "stdout",
     "output_type": "stream",
     "text": [
      "Evaluation: MAE=4.72, R²=0.382, Pearson r=0.628\n",
      "Epoch [145/150]: Train Loss=0.4471, Val Loss=0.6140, Val MAE=4.720, Val R^2=0.382, Val Pearson Coefficient=0.628\n"
     ]
    },
    {
     "name": "stderr",
     "output_type": "stream",
     "text": [
      "                                                            \r"
     ]
    },
    {
     "name": "stdout",
     "output_type": "stream",
     "text": [
      "Evaluation: MAE=4.77, R²=0.362, Pearson r=0.626\n",
      "Epoch [146/150]: Train Loss=0.4440, Val Loss=0.6380, Val MAE=4.773, Val R^2=0.362, Val Pearson Coefficient=0.626\n"
     ]
    },
    {
     "name": "stderr",
     "output_type": "stream",
     "text": [
      "                                                            \r"
     ]
    },
    {
     "name": "stdout",
     "output_type": "stream",
     "text": [
      "Evaluation: MAE=5.40, R²=0.283, Pearson r=0.610\n",
      "Epoch [147/150]: Train Loss=0.4569, Val Loss=0.7172, Val MAE=5.398, Val R^2=0.283, Val Pearson Coefficient=0.610\n"
     ]
    },
    {
     "name": "stderr",
     "output_type": "stream",
     "text": [
      "                                                            \r"
     ]
    },
    {
     "name": "stdout",
     "output_type": "stream",
     "text": [
      "Evaluation: MAE=4.81, R²=0.360, Pearson r=0.612\n",
      "Epoch [148/150]: Train Loss=0.4395, Val Loss=0.6380, Val MAE=4.810, Val R^2=0.360, Val Pearson Coefficient=0.612\n"
     ]
    },
    {
     "name": "stderr",
     "output_type": "stream",
     "text": [
      "                                                            \r"
     ]
    },
    {
     "name": "stdout",
     "output_type": "stream",
     "text": [
      "Evaluation: MAE=4.74, R²=0.382, Pearson r=0.622\n",
      "Epoch [149/150]: Train Loss=0.4587, Val Loss=0.6174, Val MAE=4.736, Val R^2=0.382, Val Pearson Coefficient=0.622\n"
     ]
    },
    {
     "name": "stderr",
     "output_type": "stream",
     "text": [
      "                                                            "
     ]
    },
    {
     "name": "stdout",
     "output_type": "stream",
     "text": [
      "Evaluation: MAE=4.81, R²=0.332, Pearson r=0.620\n",
      "Epoch [150/150]: Train Loss=0.4601, Val Loss=0.6877, Val MAE=4.811, Val R^2=0.332, Val Pearson Coefficient=0.620\n",
      "Training Complete\n"
     ]
    },
    {
     "name": "stderr",
     "output_type": "stream",
     "text": [
      "\r"
     ]
    }
   ],
   "source": [
    "# Train model\n",
    "is_train_model = input(\"Train new model? Y or N\\n Default: Use best saved model\").lower().strip() or \"n\"\n",
    "\n",
    "model = BMIMultitaskModel(extra_feature_dim=len(train_dataset.extra_feature_cols)).to(DEVICE)\n",
    "# optimizer = torch.optim.Adam(model.parameters(), lr=1e-4)\n",
    "optimizer = torch.optim.Adam(model.parameters(), lr=1e-4, weight_decay=1e-5)\n",
    "criterion = nn.MSELoss()\n",
    "\n",
    "if is_train_model == 'y':\n",
    "    print(\"Beginning training\")\n",
    "    train_model(model, optimizer, criterion)\n",
    "    print(\"Training Complete\")\n",
    "else:\n",
    "    print(\"Loading saved best model\")\n",
    "# Get extra features dimension\n",
    "extra_feature_dim = len(test_dataset.extra_feature_cols)\n",
    "best_model = load_best_model(extra_feature_dim)"
   ]
  },
  {
   "cell_type": "code",
   "execution_count": 74,
   "metadata": {},
   "outputs": [
    {
     "name": "stderr",
     "output_type": "stream",
     "text": [
      "                                                           "
     ]
    },
    {
     "name": "stdout",
     "output_type": "stream",
     "text": [
      "Evaluation: MAE=4.94, R²=0.439, Pearson r=0.663\n",
      "\n",
      "Testing Set MAE=4.940, R²=0.439, Pearson Coefficient=0.663\n"
     ]
    },
    {
     "name": "stderr",
     "output_type": "stream",
     "text": [
      "\r"
     ]
    }
   ],
   "source": [
    "# Results from testing set \n",
    "model = BMIMultitaskModel(extra_feature_dim=len(train_dataset.extra_feature_cols)).to(DEVICE)\n",
    "checkpoint = torch.load(MODEL_PATH, map_location=DEVICE)\n",
    "model.load_state_dict(checkpoint)\n",
    "model.eval()\n",
    "_, test_mae, test_r2, test_pearson = evaluate(model, criterion, test_loader)\n",
    "print(f\"\\nTesting Set MAE={test_mae:.3f}, R²={test_r2:.3f}, Pearson Coefficient={test_pearson:.3f}\")"
   ]
  },
  {
   "cell_type": "markdown",
   "metadata": {},
   "source": [
    "Without widened structure\n",
    "\n",
    "Evaluation: MAE=4.98, R²=0.432, Pearson r=0.660\n",
    "\n",
    "Testing Set MAE=4.983, R²=0.432, Pearson Coefficient=0.660\n"
   ]
  },
  {
   "cell_type": "code",
   "execution_count": 75,
   "metadata": {},
   "outputs": [],
   "source": [
    "# import torch\n",
    "# import numpy as np\n",
    "# from PIL import Image\n",
    "# import os\n",
    "\n",
    "# ===============================================\n",
    "# Load a single image and predict BMI\n",
    "# ===============================================\n",
    "def predict_outputs(image_name, model, extra_feature_df, embedding_dir=\"data/embeddings\"):\n",
    "    model.eval()\n",
    "    \n",
    "    embedding_path = os.path.join(embedding_dir, image_name.replace(\".bmp\", \".npy\"))\n",
    "    if not os.path.exists(embedding_path):\n",
    "        raise FileNotFoundError(f\"Embedding not found for: {image_name}\")\n",
    "\n",
    "    face_tensor = torch.tensor(np.load(embedding_path), dtype=torch.float32).unsqueeze(0)\n",
    "\n",
    "    row = extra_feature_df[extra_feature_df[\"name\"] == image_name]\n",
    "    if row.empty:\n",
    "        raise ValueError(f\"No extra feature data for {image_name}\")\n",
    "\n",
    "    extra_cols = train_dataset.extra_feature_cols\n",
    "    extra_features = torch.tensor(row[extra_cols].values.astype(np.float32), dtype=torch.float32)\n",
    "\n",
    "    with torch.no_grad():\n",
    "        pred_bmi, pred_age, pred_gender_logits = model(face_tensor, extra_features)\n",
    "        pred_gender = \"Male\" if torch.sigmoid(pred_gender_logits).item() > 0.5 else \"Female\"\n",
    "\n",
    "    pred_bmi = pred_bmi.item() * bmi_std + bmi_mean\n",
    "    \n",
    "    return pred_bmi, pred_age.item(), pred_gender"
   ]
  },
  {
   "cell_type": "code",
   "execution_count": 76,
   "metadata": {},
   "outputs": [
    {
     "name": "stdout",
     "output_type": "stream",
     "text": [
      "Predicted BMI: 35.48, Gender: Female\n",
      "Actual BMI for img_2.bmp: 34.97\n"
     ]
    }
   ],
   "source": [
    "test_image = \"img_2.bmp\" \n",
    "\n",
    "pred_bmi, _, pred_gender = predict_outputs(test_image, model, df_final)\n",
    "actual_bmi = df_final[df_final['name'] == test_image]['bmi'].iloc[0]\n",
    "print(f\"Predicted BMI: {pred_bmi:.2f}, Gender: {pred_gender}\")\n",
    "print(f\"Actual BMI for {test_image}: {actual_bmi:.2f}\")"
   ]
  },
  {
   "cell_type": "code",
   "execution_count": 77,
   "metadata": {},
   "outputs": [
    {
     "data": {
      "text/plain": [
       "'saved_models/best_bmi_prediction_model.pth'"
      ]
     },
     "execution_count": 77,
     "metadata": {},
     "output_type": "execute_result"
    }
   ],
   "source": [
    "MODEL_PATH"
   ]
  },
  {
   "cell_type": "code",
   "execution_count": null,
   "metadata": {},
   "outputs": [],
   "source": [
    "torch.save(model.state_dict(), MODEL_PATH)"
   ]
  }
 ],
 "metadata": {
  "kernelspec": {
   "display_name": "bmi-predictor",
   "language": "python",
   "name": "python3"
  },
  "language_info": {
   "codemirror_mode": {
    "name": "ipython",
    "version": 3
   },
   "file_extension": ".py",
   "mimetype": "text/x-python",
   "name": "python",
   "nbconvert_exporter": "python",
   "pygments_lexer": "ipython3",
   "version": "3.10.16"
  }
 },
 "nbformat": 4,
 "nbformat_minor": 2
}
