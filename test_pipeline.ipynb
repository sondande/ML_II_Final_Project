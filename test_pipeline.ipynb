{
 "cells": [
  {
   "cell_type": "markdown",
   "id": "a3f765ff",
   "metadata": {},
   "source": [
    "# XgBoost Pipeline\n",
    "---\n",
    "\n",
    "This notebook was to test running detection algorithm using XgBoost Regressor as the final model for the BMI detection app. This file will perform embeddings and training for regressor. This model will then be used in app.py to be usd in real time."
   ]
  },
  {
   "cell_type": "code",
   "execution_count": 1,
   "id": "75ae4797",
   "metadata": {},
   "outputs": [],
   "source": [
    "# !pip install --quiet pandas numpy matplotlib seaborn torch torchvision facenet-pytorch insightface pytorch-metric-learning xgboost scikit-learn opencv-python onnxruntime mozuma"
   ]
  },
  {
   "cell_type": "code",
   "execution_count": null,
   "id": "15030be5",
   "metadata": {},
   "outputs": [
    {
     "name": "stdout",
     "output_type": "stream",
     "text": [
      "Loaded 4206 rows from CSV\n",
      "Filtered to 3962 rows with existing images\n",
      "Training data shape: (3210, 4)\n",
      "Testing data shape: (752, 4)\n"
     ]
    },
    {
     "data": {
      "text/html": [
       "<div>\n",
       "<style scoped>\n",
       "    .dataframe tbody tr th:only-of-type {\n",
       "        vertical-align: middle;\n",
       "    }\n",
       "\n",
       "    .dataframe tbody tr th {\n",
       "        vertical-align: top;\n",
       "    }\n",
       "\n",
       "    .dataframe thead th {\n",
       "        text-align: right;\n",
       "    }\n",
       "</style>\n",
       "<table border=\"1\" class=\"dataframe\">\n",
       "  <thead>\n",
       "    <tr style=\"text-align: right;\">\n",
       "      <th></th>\n",
       "      <th>bmi</th>\n",
       "      <th>gender</th>\n",
       "      <th>is_training</th>\n",
       "      <th>name</th>\n",
       "    </tr>\n",
       "  </thead>\n",
       "  <tbody>\n",
       "    <tr>\n",
       "      <th>0</th>\n",
       "      <td>34.207396</td>\n",
       "      <td>Male</td>\n",
       "      <td>1</td>\n",
       "      <td>img_0.bmp</td>\n",
       "    </tr>\n",
       "    <tr>\n",
       "      <th>1</th>\n",
       "      <td>26.453720</td>\n",
       "      <td>Male</td>\n",
       "      <td>1</td>\n",
       "      <td>img_1.bmp</td>\n",
       "    </tr>\n",
       "    <tr>\n",
       "      <th>2</th>\n",
       "      <td>34.967561</td>\n",
       "      <td>Female</td>\n",
       "      <td>1</td>\n",
       "      <td>img_2.bmp</td>\n",
       "    </tr>\n",
       "    <tr>\n",
       "      <th>3</th>\n",
       "      <td>22.044766</td>\n",
       "      <td>Female</td>\n",
       "      <td>1</td>\n",
       "      <td>img_3.bmp</td>\n",
       "    </tr>\n",
       "    <tr>\n",
       "      <th>6</th>\n",
       "      <td>25.845588</td>\n",
       "      <td>Female</td>\n",
       "      <td>1</td>\n",
       "      <td>img_6.bmp</td>\n",
       "    </tr>\n",
       "  </tbody>\n",
       "</table>\n",
       "</div>"
      ],
      "text/plain": [
       "         bmi  gender  is_training       name\n",
       "0  34.207396    Male            1  img_0.bmp\n",
       "1  26.453720    Male            1  img_1.bmp\n",
       "2  34.967561  Female            1  img_2.bmp\n",
       "3  22.044766  Female            1  img_3.bmp\n",
       "6  25.845588  Female            1  img_6.bmp"
      ]
     },
     "execution_count": 4,
     "metadata": {},
     "output_type": "execute_result"
    }
   ],
   "source": [
    "import os\n",
    "import ssl\n",
    "from datetime import datetime\n",
    "from concurrent.futures import ThreadPoolExecutor, as_completed\n",
    "\n",
    "import numpy as np\n",
    "import pandas as pd\n",
    "import matplotlib.pyplot as plt\n",
    "from PIL import Image\n",
    "from tqdm import tqdm\n",
    "import joblib\n",
    "\n",
    "from sklearn.model_selection import train_test_split\n",
    "from sklearn.metrics import mean_absolute_error, r2_score, root_mean_squared_error\n",
    "\n",
    "from xgboost import XGBRegressor\n",
    "from facenet_pytorch import InceptionResnetV1, MTCNN\n",
    "\n",
    "import torch\n",
    "\n",
    "# Ignore SSL certificate verification\n",
    "try:\n",
    "    _create_unverified_https_context = ssl._create_unverified_context\n",
    "except AttributeError:\n",
    "    pass\n",
    "else:\n",
    "    ssl._create_default_https_context = _create_unverified_https_context\n",
    "    \n",
    "# Paths\n",
    "IMAGE_DIR = \"data/Images\"\n",
    "existing_image_files = os.listdir(IMAGE_DIR)\n",
    "\n",
    "# Load CSV\n",
    "df = pd.read_csv(\"data/data.csv\").drop(columns=[\"Unnamed: 0\"])\n",
    "print(f\"Loaded {df.shape[0]} rows from CSV\")\n",
    "\n",
    "# Filter out rows with missing image files\n",
    "df = df[df[\"name\"].isin(existing_image_files)]\n",
    "print(f\"Filtered to {df.shape[0]} rows with existing images\")\n",
    "\n",
    "# Split into training and testing sets\n",
    "training_data_df = df[df['is_training'] == 1]\n",
    "testing_data_df = df[df['is_training'] == 0]\n",
    "print(f\"Training data shape: {training_data_df.shape}\")\n",
    "print(f\"Testing data shape: {testing_data_df.shape}\")\n",
    "df.head(5)"
   ]
  },
  {
   "cell_type": "code",
   "execution_count": 5,
   "id": "bfcc6632",
   "metadata": {},
   "outputs": [],
   "source": [
    "# Model setup\n",
    "device = 'cuda' if torch.cuda.is_available() else 'cpu'\n",
    "resnet = InceptionResnetV1(pretrained='vggface2').eval().to(device)\n",
    "mtcnn = MTCNN(image_size=160, margin=20, device=device)"
   ]
  },
  {
   "cell_type": "code",
   "execution_count": null,
   "id": "54ca3a5c",
   "metadata": {},
   "outputs": [
    {
     "name": "stderr",
     "output_type": "stream",
     "text": [
      "100%|██████████| 3210/3210 [02:12<00:00, 24.15it/s]\n"
     ]
    }
   ],
   "source": [
    "def process_row(row):\n",
    "    \"\"\"\n",
    "    Helper function to process each row of the DataFrame using with multi-threading.\n",
    "    \"\"\"\n",
    "    img_path = os.path.join(IMAGE_DIR, row['name'])\n",
    "    try:\n",
    "        img = Image.open(img_path).convert('RGB')\n",
    "        face = mtcnn(img)\n",
    "        if face is not None:\n",
    "            face = face.unsqueeze(0).to(device)\n",
    "            with torch.no_grad():\n",
    "                embedding = resnet(face).cpu().numpy().flatten()\n",
    "            return embedding, row['bmi'], row['name']\n",
    "    except Exception as e:\n",
    "        print(f\"Error processing {img_path}: {e}\")\n",
    "    return None\n",
    "\n",
    "def multi_threaded_embedding_extraction(df):\n",
    "    \"\"\"\n",
    "    Embedding extraction for each image with multi-threading.\n",
    "    \"\"\"\n",
    "    # Initialize lists for embeddings and labels\n",
    "    X = []\n",
    "    y = []\n",
    "    filenames = []\n",
    "    \n",
    "    # Use ThreadPoolExecutor to process images in parallel\n",
    "    with ThreadPoolExecutor(max_workers=8) as executor:\n",
    "        futures = [executor.submit(process_row, row) for _, row in df.iterrows()]\n",
    "\n",
    "        for future in tqdm(as_completed(futures), total=len(futures)):\n",
    "            result = future.result()\n",
    "            if result:\n",
    "                embedding, bmi, file_name = result\n",
    "                X.append(embedding)\n",
    "                y.append(bmi)\n",
    "                filenames.append(file_name)\n",
    "    return np.array(X), np.array(y), filenames\n",
    "\n",
    "# Extract embeddings for training data\n",
    "training_embeddings, training_labels, training_filenames = multi_threaded_embedding_extraction(training_data_df)"
   ]
  },
  {
   "cell_type": "code",
   "execution_count": 7,
   "id": "efdca4c1",
   "metadata": {},
   "outputs": [
    {
     "name": "stderr",
     "output_type": "stream",
     "text": [
      "100%|██████████| 752/752 [00:32<00:00, 22.80it/s]\n"
     ]
    }
   ],
   "source": [
    "# Extract embeddings for testing data\n",
    "testing_embeddings, testing_labels, testing_filenames = multi_threaded_embedding_extraction(testing_data_df)"
   ]
  },
  {
   "cell_type": "code",
   "execution_count": null,
   "id": "dd298ec8",
   "metadata": {},
   "outputs": [],
   "source": [
    "# Save embeddings as numpy arrays\n",
    "X = np.array(training_embeddings)\n",
    "y = np.array(training_labels)\n",
    "\n",
    "# Split & train\n",
    "X_train, X_val, y_train, y_val = train_test_split(X, y, test_size=0.3, random_state=42)"
   ]
  },
  {
   "cell_type": "code",
   "execution_count": null,
   "id": "52694f2a",
   "metadata": {},
   "outputs": [
    {
     "name": "stdout",
     "output_type": "stream",
     "text": [
      "Fitting 5 folds for each of 20 candidates, totalling 100 fits\n",
      "Best MAE: 4.4893\n",
      "Best Parameters: {'subsample': 1.0, 'reg_lambda': 1, 'reg_alpha': 1, 'n_estimators': 300, 'max_depth': 5, 'learning_rate': 0.05, 'colsample_bytree': 0.6}\n"
     ]
    }
   ],
   "source": [
    "def train_bmi_regressor_with_cv(X, y, cv_folds=5, n_iter=20, random_state=42):\n",
    "    \"\"\"\n",
    "    Trains an XGBoost regressor using RandomizedSearchCV.\n",
    "    \"\"\"\n",
    "    xgb = XGBRegressor(objective='reg:squarederror', random_state=random_state)\n",
    "\n",
    "    param_dist = {\n",
    "        'n_estimators': [50, 100, 200, 300],\n",
    "        'max_depth': [3, 4, 5, 6, 7],\n",
    "        'learning_rate': [0.01, 0.05, 0.1, 0.2],\n",
    "        'subsample': [0.6, 0.8, 1.0],\n",
    "        'colsample_bytree': [0.6, 0.8, 1.0],\n",
    "        'reg_lambda': [0.1, 1, 10],\n",
    "        'reg_alpha': [0, 0.1, 1]\n",
    "    }\n",
    "\n",
    "    scorer = make_scorer(mean_absolute_error, greater_is_better=False)\n",
    "\n",
    "    search = RandomizedSearchCV(\n",
    "        xgb,\n",
    "        param_distributions=param_dist,\n",
    "        n_iter=n_iter,\n",
    "        scoring=scorer,\n",
    "        cv=cv_folds,\n",
    "        verbose=1,\n",
    "        random_state=random_state,\n",
    "        n_jobs=-1\n",
    "    )\n",
    "\n",
    "    search.fit(X, y)\n",
    "\n",
    "    print(f\"Best MAE: {-search.best_score_:.4f}\")\n",
    "    print(f\"Best Parameters: {search.best_params_}\")\n",
    "\n",
    "    return search.best_estimator_\n",
    "\n",
    "best_bmi_model = train_bmi_regressor_with_cv(X_train, y_train)"
   ]
  },
  {
   "cell_type": "code",
   "execution_count": null,
   "id": "10345ecc",
   "metadata": {},
   "outputs": [
    {
     "name": "stdout",
     "output_type": "stream",
     "text": [
      "MAE: 5.28\n",
      "RMSE: 7.33\n",
      "R² Score: 0.37\n"
     ]
    },
    {
     "data": {
      "image/png": "[encoded data removed]",
      "text/plain": [
       "<Figure size 800x600 with 1 Axes>"
      ]
     },
     "metadata": {},
     "output_type": "display_data"
    }
   ],
   "source": [
    "X_test = np.array(testing_embeddings)\n",
    "y_test = np.array(testing_labels)\n",
    "\n",
    "y_pred = best_bmi_model.predict(X_test)\n",
    "\n",
    "saved_model_file_name =f'saved_models/best_bmi_model_{datetime.now()}.joblib'\n",
    "\n",
    "joblib.dump(best_bmi_model, saved_model_file_name)\n",
    "\n",
    "mae = mean_absolute_error(y_test, y_pred)\n",
    "rmse = root_mean_squared_error(y_test, y_pred)\n",
    "r2 = r2_score(y_test, y_pred)\n",
    "\n",
    "print(f\"MAE: {mae:.2f}\")\n",
    "print(f\"RMSE: {rmse:.2f}\")\n",
    "print(f\"R² Score: {r2:.2f}\")"
   ]
  },
  {
   "cell_type": "code",
   "execution_count": null,
   "id": "467bf4c1",
   "metadata": {},
   "outputs": [],
   "source": [
    "xgboost_dataframe_results = pd.DataFrame({\n",
    "    'filename': testing_filenames,\n",
    "    'actual_bmi': y_test,\n",
    "    'predicted_bmi': y_pred\n",
    "})\n",
    "xgboost_dataframe_results.to_csv(\"bmi_test_results.csv\", index=False)"
   ]
  },
  {
   "cell_type": "code",
   "execution_count": null,
   "id": "473ca0b3",
   "metadata": {},
   "outputs": [
    {
     "data": {
      "text/html": [
       "<div>\n",
       "<style scoped>\n",
       "    .dataframe tbody tr th:only-of-type {\n",
       "        vertical-align: middle;\n",
       "    }\n",
       "\n",
       "    .dataframe tbody tr th {\n",
       "        vertical-align: top;\n",
       "    }\n",
       "\n",
       "    .dataframe thead th {\n",
       "        text-align: right;\n",
       "    }\n",
       "</style>\n",
       "<table border=\"1\" class=\"dataframe\">\n",
       "  <thead>\n",
       "    <tr style=\"text-align: right;\">\n",
       "      <th></th>\n",
       "      <th>filename</th>\n",
       "      <th>actual_bmi</th>\n",
       "      <th>predicted_bmi</th>\n",
       "    </tr>\n",
       "  </thead>\n",
       "  <tbody>\n",
       "    <tr>\n",
       "      <th>0</th>\n",
       "      <td>img_3373.bmp</td>\n",
       "      <td>27.891291</td>\n",
       "      <td>38.028904</td>\n",
       "    </tr>\n",
       "    <tr>\n",
       "      <th>1</th>\n",
       "      <td>img_3378.bmp</td>\n",
       "      <td>60.096828</td>\n",
       "      <td>43.763538</td>\n",
       "    </tr>\n",
       "    <tr>\n",
       "      <th>2</th>\n",
       "      <td>img_3372.bmp</td>\n",
       "      <td>36.258679</td>\n",
       "      <td>34.008755</td>\n",
       "    </tr>\n",
       "    <tr>\n",
       "      <th>3</th>\n",
       "      <td>img_3371.bmp</td>\n",
       "      <td>24.389796</td>\n",
       "      <td>24.221573</td>\n",
       "    </tr>\n",
       "    <tr>\n",
       "      <th>4</th>\n",
       "      <td>img_3375.bmp</td>\n",
       "      <td>23.370844</td>\n",
       "      <td>31.175821</td>\n",
       "    </tr>\n",
       "  </tbody>\n",
       "</table>\n",
       "</div>"
      ],
      "text/plain": [
       "       filename  actual_bmi  predicted_bmi\n",
       "0  img_3373.bmp   27.891291      38.028904\n",
       "1  img_3378.bmp   60.096828      43.763538\n",
       "2  img_3372.bmp   36.258679      34.008755\n",
       "3  img_3371.bmp   24.389796      24.221573\n",
       "4  img_3375.bmp   23.370844      31.175821"
      ]
     },
     "execution_count": 13,
     "metadata": {},
     "output_type": "execute_result"
    }
   ],
   "source": [
    "xgboost_dataframe_results.head()"
   ]
  },
  {
   "cell_type": "code",
   "execution_count": null,
   "id": "bcfe3011",
   "metadata": {},
   "outputs": [],
   "source": []
  }
 ],
 "metadata": {
  "kernelspec": {
   "display_name": "venv",
   "language": "python",
   "name": "python3"
  },
  "language_info": {
   "codemirror_mode": {
    "name": "ipython",
    "version": 3
   },
   "file_extension": ".py",
   "mimetype": "text/x-python",
   "name": "python",
   "nbconvert_exporter": "python",
   "pygments_lexer": "ipython3",
   "version": "3.12.4"
  }
 },
 "nbformat": 4,
 "nbformat_minor": 5
}
